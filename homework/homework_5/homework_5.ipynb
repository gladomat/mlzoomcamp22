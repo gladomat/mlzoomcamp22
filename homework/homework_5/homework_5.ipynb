{
 "cells": [
  {
   "cell_type": "markdown",
   "id": "c4e8c2ac",
   "metadata": {},
   "source": [
    "\n",
    "\n",
    "## Question 1\n",
    "\n",
    "* Install Pipenv\n",
    "* What's the version of pipenv you installed?\n",
    "* Use `--version` to find out"
   ]
  },
  {
   "cell_type": "code",
   "execution_count": 1,
   "id": "b2eef650",
   "metadata": {},
   "outputs": [
    {
     "name": "stdout",
     "output_type": "stream",
     "text": [
      "Collecting pipenv\n",
      "  Downloading pipenv-2022.10.4-py2.py3-none-any.whl (3.3 MB)\n",
      "\u001b[2K     \u001b[90m━━━━━━━━━━━━━━━━━━━━━━━━━━━━━━━━━━━━━━━━\u001b[0m \u001b[32m3.3/3.3 MB\u001b[0m \u001b[31m6.9 MB/s\u001b[0m eta \u001b[36m0:00:00\u001b[0m00:01\u001b[0m00:01\u001b[0m\n",
      "\u001b[?25hRequirement already satisfied: setuptools>=36.2.1 in /home/test/miniconda3/envs/mlzoomcamp/lib/python3.9/site-packages (from pipenv) (63.4.1)\n",
      "Collecting virtualenv-clone>=0.2.5\n",
      "  Downloading virtualenv_clone-0.5.7-py3-none-any.whl (6.6 kB)\n",
      "Requirement already satisfied: virtualenv in /home/test/.local/lib/python3.9/site-packages (from pipenv) (20.16.2)\n",
      "Requirement already satisfied: certifi in /home/test/miniconda3/envs/mlzoomcamp/lib/python3.9/site-packages (from pipenv) (2022.6.15)\n",
      "Requirement already satisfied: filelock<4,>=3.2 in /home/test/.local/lib/python3.9/site-packages (from virtualenv->pipenv) (3.7.1)\n",
      "Requirement already satisfied: distlib<1,>=0.3.1 in /home/test/.local/lib/python3.9/site-packages (from virtualenv->pipenv) (0.3.5)\n",
      "Requirement already satisfied: platformdirs<3,>=2 in /home/test/.local/lib/python3.9/site-packages (from virtualenv->pipenv) (2.5.2)\n",
      "Installing collected packages: virtualenv-clone, pipenv\n",
      "Successfully installed pipenv-2022.10.4 virtualenv-clone-0.5.7\n",
      "Note: you may need to restart the kernel to use updated packages.\n"
     ]
    }
   ],
   "source": [
    "%pip install pipenv"
   ]
  },
  {
   "cell_type": "code",
   "execution_count": 3,
   "id": "2be73030",
   "metadata": {},
   "outputs": [
    {
     "name": "stdout",
     "output_type": "stream",
     "text": [
      "\u001b[1mpipenv\u001b[0m, version 2022.10.4\n",
      "\u001b[0m"
     ]
    }
   ],
   "source": [
    "!pipenv --version"
   ]
  },
  {
   "cell_type": "markdown",
   "id": "7c9b7224",
   "metadata": {},
   "source": [
    "\n",
    "## Question 2\n",
    "\n",
    "* Use Pipenv to install Scikit-Learn version 1.0.2\n",
    "* What's the first hash for scikit-learn you get in Pipfile.lock?\n",
    "\n",
    "Note: you should create an empty folder for homework\n",
    "and do it there. "
   ]
  },
  {
   "cell_type": "markdown",
   "id": "b498c466",
   "metadata": {},
   "source": [
    "sha256:08ef968f6b72033c16c479c966bf37ccd49b06ea91b765e1cc27afefe723920b\",\n"
   ]
  },
  {
   "cell_type": "markdown",
   "id": "c84da5b0",
   "metadata": {},
   "source": [
    "## Models\n",
    "\n",
    "We've prepared a dictionary vectorizer and a model.\n",
    "\n",
    "They were trained (roughly) using this code:\n",
    "\n",
    "```python\n",
    "features = ['reports', 'share', 'expenditure', 'owner']\n",
    "dicts = df[features].to_dict(orient='records')\n",
    "\n",
    "dv = DictVectorizer(sparse=False)\n",
    "X = dv.fit_transform(dicts)\n",
    "\n",
    "model = LogisticRegression(solver='liblinear').fit(X, y)\n",
    "```\n",
    "\n",
    "> **Note**: You don't need to train the model. This code is just for your reference.\n",
    "\n",
    "And then saved with Pickle. Download them:\n",
    "\n",
    "* [DictVectorizer](https://github.com/alexeygrigorev/mlbookcamp-code/blob/master/course-zoomcamp/cohorts/2022/05-deployment/homework/dv.bin?raw=true)\n",
    "* [LogisticRegression](https://github.com/alexeygrigorev/mlbookcamp-code/blob/master/course-zoomcamp/cohorts/2022/05-deployment/homework/model1.bin?raw=true)\n",
    "\n",
    "With `wget`:\n",
    "\n",
    "```bash\n",
    "PREFIX=https://raw.githubusercontent.com/alexeygrigorev/mlbookcamp-code/master/course-zoomcamp/cohorts/2022/05-deployment/homework\n",
    "wget $PREFIX/model1.bin\n",
    "wget $PREFIX/dv.bin"
   ]
  },
  {
   "cell_type": "markdown",
   "id": "b89c5d04",
   "metadata": {},
   "source": [
    "## Question 3\n",
    "\n",
    "Let's use these models!\n",
    "\n",
    "* Write a script for loading these models with pickle\n",
    "* Score this client:\n",
    "\n",
    "```json\n",
    "{\"reports\": 0, \"share\": 0.001694, \"expenditure\": 0.12, \"owner\": \"yes\"}\n",
    "```\n",
    "\n",
    "What's the probability that this client will get a credit card? \n",
    "\n",
    "* 0.148\n",
    "* 0.391\n",
    "* 0.601\n",
    "* 0.993\n",
    "\n",
    "If you're getting errors when unpickling the files, check their checksum:\n",
    "\n",
    "```bash\n",
    "$ md5sum model1.bin dv.bin\n",
    "3f57f3ebfdf57a9e1368dcd0f28a4a14  model1.bin\n",
    "6b7cded86a52af7e81859647fa3a5c2e  dv.bin\n",
    "```"
   ]
  },
  {
   "cell_type": "markdown",
   "id": "328d11be",
   "metadata": {},
   "source": []
  }
 ],
 "metadata": {
  "kernelspec": {
   "display_name": "Python 3.9.13 ('mlzoomcamp')",
   "language": "python",
   "name": "python3"
  },
  "language_info": {
   "codemirror_mode": {
    "name": "ipython",
    "version": 3
   },
   "file_extension": ".py",
   "mimetype": "text/x-python",
   "name": "python",
   "nbconvert_exporter": "python",
   "pygments_lexer": "ipython3",
   "version": "3.9.13"
  },
  "vscode": {
   "interpreter": {
    "hash": "339f948244b2081697f156839e5e059560d0a75174bf19e73cbf427d089be81b"
   }
  }
 },
 "nbformat": 4,
 "nbformat_minor": 5
}
