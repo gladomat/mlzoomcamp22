{
 "cells": [
  {
   "cell_type": "code",
   "execution_count": 1,
   "id": "d67a989d-9347-41c0-b990-381b8243129d",
   "metadata": {
    "execution": {
     "iopub.execute_input": "2022-11-21T07:53:58.240746Z",
     "iopub.status.busy": "2022-11-21T07:53:58.240310Z",
     "iopub.status.idle": "2022-11-21T07:54:04.847296Z",
     "shell.execute_reply": "2022-11-21T07:54:04.846524Z",
     "shell.execute_reply.started": "2022-11-21T07:53:58.240665Z"
    },
    "tags": []
   },
   "outputs": [
    {
     "name": "stdout",
     "output_type": "stream",
     "text": [
      "Collecting scipy\n",
      "  Using cached scipy-1.9.3-cp39-cp39-manylinux_2_17_x86_64.manylinux2014_x86_64.whl (33.8 MB)\n",
      "Requirement already satisfied: numpy<1.26.0,>=1.18.5 in /opt/saturncloud/envs/saturn/lib/python3.9/site-packages (from scipy) (1.21.6)\n",
      "Installing collected packages: scipy\n",
      "Successfully installed scipy-1.9.3\n"
     ]
    }
   ],
   "source": [
    "!pip install scipy"
   ]
  },
  {
   "cell_type": "code",
   "execution_count": 2,
   "id": "0db7445a-6064-4bc2-9c6d-0dd29a15c5a9",
   "metadata": {
    "execution": {
     "iopub.execute_input": "2022-11-21T07:54:06.844410Z",
     "iopub.status.busy": "2022-11-21T07:54:06.843997Z",
     "iopub.status.idle": "2022-11-21T07:54:13.383914Z",
     "shell.execute_reply": "2022-11-21T07:54:13.383276Z",
     "shell.execute_reply.started": "2022-11-21T07:54:06.844377Z"
    },
    "tags": []
   },
   "outputs": [
    {
     "name": "stderr",
     "output_type": "stream",
     "text": [
      "2022-11-21 07:54:06.987760: I tensorflow/core/util/util.cc:169] oneDNN custom operations are on. You may see slightly different numerical results due to floating-point round-off errors from different computation orders. To turn them off, set the environment variable `TF_ENABLE_ONEDNN_OPTS=0`.\n"
     ]
    }
   ],
   "source": [
    "import tensorflow as tf\n",
    "import tensorflow.keras as keras\n",
    "import scipy\n",
    "from tensorflow.keras.preprocessing.image import ImageDataGenerator"
   ]
  },
  {
   "cell_type": "raw",
   "id": "c22559b0-a0e9-42ab-9aa6-6b373197f3a1",
   "metadata": {
    "execution": {
     "iopub.execute_input": "2022-11-17T20:10:12.797335Z",
     "iopub.status.busy": "2022-11-17T20:10:12.796776Z",
     "iopub.status.idle": "2022-11-17T20:10:16.596453Z",
     "shell.execute_reply": "2022-11-17T20:10:16.595678Z",
     "shell.execute_reply.started": "2022-11-17T20:10:12.797304Z"
    },
    "jupyter": {
     "outputs_hidden": true
    },
    "tags": []
   },
   "source": [
    "!wget https://github.com/alexeygrigorev/dino-or-dragon/releases/download/data/dino-dragon.zip\n",
    "!unzip dino-dragon.zip"
   ]
  },
  {
   "cell_type": "code",
   "execution_count": 3,
   "id": "5a690349-b083-406d-94e9-d063cb71d99a",
   "metadata": {
    "execution": {
     "iopub.execute_input": "2022-11-21T07:54:34.159199Z",
     "iopub.status.busy": "2022-11-21T07:54:34.158647Z",
     "iopub.status.idle": "2022-11-21T07:54:35.249937Z",
     "shell.execute_reply": "2022-11-21T07:54:35.249105Z",
     "shell.execute_reply.started": "2022-11-21T07:54:34.159172Z"
    },
    "tags": []
   },
   "outputs": [
    {
     "name": "stderr",
     "output_type": "stream",
     "text": [
      "2022-11-21 07:54:34.255099: I tensorflow/stream_executor/cuda/cuda_gpu_executor.cc:975] successful NUMA node read from SysFS had negative value (-1), but there must be at least one NUMA node, so returning NUMA node zero\n",
      "2022-11-21 07:54:34.262390: I tensorflow/stream_executor/cuda/cuda_gpu_executor.cc:975] successful NUMA node read from SysFS had negative value (-1), but there must be at least one NUMA node, so returning NUMA node zero\n",
      "2022-11-21 07:54:34.263038: I tensorflow/stream_executor/cuda/cuda_gpu_executor.cc:975] successful NUMA node read from SysFS had negative value (-1), but there must be at least one NUMA node, so returning NUMA node zero\n",
      "2022-11-21 07:54:34.264182: I tensorflow/core/platform/cpu_feature_guard.cc:193] This TensorFlow binary is optimized with oneAPI Deep Neural Network Library (oneDNN) to use the following CPU instructions in performance-critical operations:  AVX2 AVX512F AVX512_VNNI FMA\n",
      "To enable them in other operations, rebuild TensorFlow with the appropriate compiler flags.\n",
      "2022-11-21 07:54:34.264607: I tensorflow/stream_executor/cuda/cuda_gpu_executor.cc:975] successful NUMA node read from SysFS had negative value (-1), but there must be at least one NUMA node, so returning NUMA node zero\n",
      "2022-11-21 07:54:34.265223: I tensorflow/stream_executor/cuda/cuda_gpu_executor.cc:975] successful NUMA node read from SysFS had negative value (-1), but there must be at least one NUMA node, so returning NUMA node zero\n",
      "2022-11-21 07:54:34.265781: I tensorflow/stream_executor/cuda/cuda_gpu_executor.cc:975] successful NUMA node read from SysFS had negative value (-1), but there must be at least one NUMA node, so returning NUMA node zero\n",
      "2022-11-21 07:54:34.942771: I tensorflow/stream_executor/cuda/cuda_gpu_executor.cc:975] successful NUMA node read from SysFS had negative value (-1), but there must be at least one NUMA node, so returning NUMA node zero\n",
      "2022-11-21 07:54:34.943408: I tensorflow/stream_executor/cuda/cuda_gpu_executor.cc:975] successful NUMA node read from SysFS had negative value (-1), but there must be at least one NUMA node, so returning NUMA node zero\n",
      "2022-11-21 07:54:34.943968: I tensorflow/stream_executor/cuda/cuda_gpu_executor.cc:975] successful NUMA node read from SysFS had negative value (-1), but there must be at least one NUMA node, so returning NUMA node zero\n",
      "2022-11-21 07:54:34.944504: I tensorflow/core/common_runtime/gpu/gpu_device.cc:1532] Created device /job:localhost/replica:0/task:0/device:GPU:0 with 13795 MB memory:  -> device: 0, name: Tesla T4, pci bus id: 0000:00:1e.0, compute capability: 7.5\n"
     ]
    }
   ],
   "source": [
    "model = keras.models.Sequential([\n",
    "    keras.layers.Conv2D(32, (3, 3), activation='relu', input_shape=(150, 150, 3)),\n",
    "    keras.layers.MaxPooling2D((2, 2)),\n",
    "    keras.layers.Flatten(),\n",
    "    keras.layers.Dense(64, activation='relu'),\n",
    "    keras.layers.Dense(1, activation='sigmoid')\n",
    "])\n",
    "\n",
    "model.compile(optimizer=keras.optimizers.SGD(learning_rate=0.002, momentum=0.8), loss='binary_crossentropy', metrics=['accuracy'])"
   ]
  },
  {
   "cell_type": "markdown",
   "id": "b81f6e9e-5f23-4e35-8150-223e23a401c4",
   "metadata": {},
   "source": [
    "Question 1\n",
    "\n",
    "Since we have a binary classification problem, what is the best loss function for us?\n",
    "\n",
    "    -> binary crossentropy\n",
    "    focal loss\n",
    "    mean squared error\n",
    "    categorical crossentropy\n",
    "\n",
    "Note: since we specify an activation for the output layer, we don't need to set from_logits=True"
   ]
  },
  {
   "cell_type": "code",
   "execution_count": 5,
   "id": "20d56241-3829-4f1b-b285-feaa2e82764c",
   "metadata": {
    "execution": {
     "iopub.execute_input": "2022-11-20T13:36:41.059666Z",
     "iopub.status.busy": "2022-11-20T13:36:41.059270Z",
     "iopub.status.idle": "2022-11-20T13:36:41.075204Z",
     "shell.execute_reply": "2022-11-20T13:36:41.074595Z",
     "shell.execute_reply.started": "2022-11-20T13:36:41.059642Z"
    },
    "tags": []
   },
   "outputs": [
    {
     "name": "stdout",
     "output_type": "stream",
     "text": [
      "Model: \"sequential\"\n",
      "_________________________________________________________________\n",
      " Layer (type)                Output Shape              Param #   \n",
      "=================================================================\n",
      " conv2d (Conv2D)             (None, 148, 148, 32)      896       \n",
      "                                                                 \n",
      " max_pooling2d (MaxPooling2D  (None, 74, 74, 32)       0         \n",
      " )                                                               \n",
      "                                                                 \n",
      " flatten (Flatten)           (None, 175232)            0         \n",
      "                                                                 \n",
      " dense (Dense)               (None, 64)                11214912  \n",
      "                                                                 \n",
      " dense_1 (Dense)             (None, 1)                 65        \n",
      "                                                                 \n",
      "=================================================================\n",
      "Total params: 11,215,873\n",
      "Trainable params: 11,215,873\n",
      "Non-trainable params: 0\n",
      "_________________________________________________________________\n"
     ]
    }
   ],
   "source": [
    "model.summary()"
   ]
  },
  {
   "cell_type": "markdown",
   "id": "6eb499c1-924a-43ca-a854-7ad938e226d1",
   "metadata": {},
   "source": [
    "Question 2\n",
    "\n",
    "What's the total number of parameters of the model? You can use the summary method for that.\n",
    "\n",
    "    9215873\n",
    "    -> 11215873\n",
    "    14215873\n",
    "    19215873"
   ]
  },
  {
   "cell_type": "code",
   "execution_count": 4,
   "id": "5746b374-6e00-406f-b37b-6f12b14286d3",
   "metadata": {
    "execution": {
     "iopub.execute_input": "2022-11-21T07:54:42.201696Z",
     "iopub.status.busy": "2022-11-21T07:54:42.201277Z",
     "iopub.status.idle": "2022-11-21T07:54:42.205504Z",
     "shell.execute_reply": "2022-11-21T07:54:42.204719Z",
     "shell.execute_reply.started": "2022-11-21T07:54:42.201670Z"
    },
    "tags": []
   },
   "outputs": [],
   "source": [
    "train_generator = ImageDataGenerator(rescale=1./255)"
   ]
  },
  {
   "cell_type": "code",
   "execution_count": 5,
   "id": "147c47d8-5fb3-4450-b364-09a3a663bb28",
   "metadata": {
    "execution": {
     "iopub.execute_input": "2022-11-21T07:54:43.101981Z",
     "iopub.status.busy": "2022-11-21T07:54:43.101549Z",
     "iopub.status.idle": "2022-11-21T07:54:43.175700Z",
     "shell.execute_reply": "2022-11-21T07:54:43.174817Z",
     "shell.execute_reply.started": "2022-11-21T07:54:43.101947Z"
    },
    "tags": []
   },
   "outputs": [
    {
     "name": "stdout",
     "output_type": "stream",
     "text": [
      "Found 1594 images belonging to 2 classes.\n"
     ]
    }
   ],
   "source": [
    "train_ds = train_generator.flow_from_directory(\n",
    "    './train',\n",
    "    target_size=(150, 150),\n",
    "    batch_size=20,\n",
    "    shuffle=True, \n",
    "    class_mode='binary'\n",
    ")"
   ]
  },
  {
   "cell_type": "code",
   "execution_count": 24,
   "id": "e4f27a43-2675-4422-8cc8-29912d5120f5",
   "metadata": {
    "execution": {
     "iopub.execute_input": "2022-11-20T13:57:42.648898Z",
     "iopub.status.busy": "2022-11-20T13:57:42.648499Z",
     "iopub.status.idle": "2022-11-20T13:57:42.653521Z",
     "shell.execute_reply": "2022-11-20T13:57:42.652813Z",
     "shell.execute_reply.started": "2022-11-20T13:57:42.648870Z"
    },
    "tags": []
   },
   "outputs": [
    {
     "data": {
      "text/plain": [
       "'binary'"
      ]
     },
     "execution_count": 24,
     "metadata": {},
     "output_type": "execute_result"
    }
   ],
   "source": [
    "train_ds.class_mode"
   ]
  },
  {
   "cell_type": "code",
   "execution_count": 6,
   "id": "454d0b6f-d0b4-4c89-8609-016e0fb49498",
   "metadata": {
    "execution": {
     "iopub.execute_input": "2022-11-21T07:54:47.240290Z",
     "iopub.status.busy": "2022-11-21T07:54:47.239847Z",
     "iopub.status.idle": "2022-11-21T07:54:47.259687Z",
     "shell.execute_reply": "2022-11-21T07:54:47.258893Z",
     "shell.execute_reply.started": "2022-11-21T07:54:47.240241Z"
    },
    "tags": []
   },
   "outputs": [
    {
     "name": "stdout",
     "output_type": "stream",
     "text": [
      "Found 394 images belonging to 2 classes.\n"
     ]
    }
   ],
   "source": [
    "test_generator = ImageDataGenerator(rescale=1./255)\n",
    "test_ds = test_generator.flow_from_directory(\n",
    "    './test',\n",
    "    target_size=(150, 150),\n",
    "    batch_size=20,\n",
    "    shuffle=False, \n",
    "    class_mode='binary'\n",
    ")"
   ]
  },
  {
   "cell_type": "code",
   "execution_count": 12,
   "id": "ae5111f8-3933-43ca-b0e1-13e0c1343d68",
   "metadata": {
    "execution": {
     "iopub.execute_input": "2022-11-20T13:38:27.611134Z",
     "iopub.status.busy": "2022-11-20T13:38:27.610706Z",
     "iopub.status.idle": "2022-11-20T13:38:27.617782Z",
     "shell.execute_reply": "2022-11-20T13:38:27.616941Z",
     "shell.execute_reply.started": "2022-11-20T13:38:27.611108Z"
    },
    "tags": []
   },
   "outputs": [
    {
     "data": {
      "text/plain": [
       "'binary'"
      ]
     },
     "execution_count": 12,
     "metadata": {},
     "output_type": "execute_result"
    }
   ],
   "source": [
    "test_ds.class_mode"
   ]
  },
  {
   "cell_type": "code",
   "execution_count": 7,
   "id": "4972af36-2cfa-48f9-8e1f-95aafa603205",
   "metadata": {
    "execution": {
     "iopub.execute_input": "2022-11-21T07:54:53.121618Z",
     "iopub.status.busy": "2022-11-21T07:54:53.121219Z",
     "iopub.status.idle": "2022-11-21T07:56:24.671858Z",
     "shell.execute_reply": "2022-11-21T07:56:24.671039Z",
     "shell.execute_reply.started": "2022-11-21T07:54:53.121593Z"
    },
    "tags": []
   },
   "outputs": [
    {
     "name": "stdout",
     "output_type": "stream",
     "text": [
      "Epoch 1/10\n"
     ]
    },
    {
     "name": "stderr",
     "output_type": "stream",
     "text": [
      "2022-11-21 07:54:54.442963: I tensorflow/stream_executor/cuda/cuda_dnn.cc:384] Loaded cuDNN version 8100\n",
      "2022-11-21 07:54:55.097652: I tensorflow/core/platform/default/subprocess.cc:304] Start cannot spawn child process: No such file or directory\n",
      "2022-11-21 07:54:55.098611: I tensorflow/core/platform/default/subprocess.cc:304] Start cannot spawn child process: No such file or directory\n",
      "2022-11-21 07:54:55.098648: W tensorflow/stream_executor/gpu/asm_compiler.cc:80] Couldn't get ptxas version string: INTERNAL: Couldn't invoke ptxas --version\n",
      "2022-11-21 07:54:55.099697: I tensorflow/core/platform/default/subprocess.cc:304] Start cannot spawn child process: No such file or directory\n",
      "2022-11-21 07:54:55.099777: W tensorflow/stream_executor/gpu/redzone_allocator.cc:314] INTERNAL: Failed to launch ptxas\n",
      "Relying on driver to perform ptx compilation. \n",
      "Modify $PATH to customize ptxas location.\n",
      "This message will be only logged once.\n"
     ]
    },
    {
     "name": "stdout",
     "output_type": "stream",
     "text": [
      "80/80 [==============================] - 12s 126ms/step - loss: 0.6798 - accuracy: 0.5728 - val_loss: 0.6860 - val_accuracy: 0.5000\n",
      "Epoch 2/10\n",
      "80/80 [==============================] - 9s 108ms/step - loss: 0.6045 - accuracy: 0.6945 - val_loss: 0.5864 - val_accuracy: 0.6447\n",
      "Epoch 3/10\n",
      "80/80 [==============================] - 9s 107ms/step - loss: 0.5209 - accuracy: 0.7578 - val_loss: 0.5151 - val_accuracy: 0.7335\n",
      "Epoch 4/10\n",
      "80/80 [==============================] - 9s 107ms/step - loss: 0.4270 - accuracy: 0.8231 - val_loss: 0.3961 - val_accuracy: 0.8376\n",
      "Epoch 5/10\n",
      "80/80 [==============================] - 9s 107ms/step - loss: 0.3821 - accuracy: 0.8369 - val_loss: 0.3941 - val_accuracy: 0.8299\n",
      "Epoch 6/10\n",
      "80/80 [==============================] - 9s 106ms/step - loss: 0.3465 - accuracy: 0.8563 - val_loss: 0.3528 - val_accuracy: 0.8426\n",
      "Epoch 7/10\n",
      "80/80 [==============================] - 8s 106ms/step - loss: 0.3079 - accuracy: 0.8733 - val_loss: 0.3419 - val_accuracy: 0.8452\n",
      "Epoch 8/10\n",
      "80/80 [==============================] - 9s 107ms/step - loss: 0.2805 - accuracy: 0.8883 - val_loss: 0.3209 - val_accuracy: 0.8579\n",
      "Epoch 9/10\n",
      "80/80 [==============================] - 9s 107ms/step - loss: 0.2571 - accuracy: 0.8952 - val_loss: 0.3010 - val_accuracy: 0.8706\n",
      "Epoch 10/10\n",
      "80/80 [==============================] - 9s 108ms/step - loss: 0.2312 - accuracy: 0.9122 - val_loss: 0.3332 - val_accuracy: 0.8503\n"
     ]
    }
   ],
   "source": [
    "history = model.fit(\n",
    "    train_ds,\n",
    "    epochs=10,\n",
    "    validation_data=test_ds\n",
    ")"
   ]
  },
  {
   "cell_type": "markdown",
   "id": "fe85e367-7585-4cd2-bbda-d6bf3d9c63b1",
   "metadata": {
    "execution": {
     "iopub.execute_input": "2022-11-17T20:55:55.444566Z",
     "iopub.status.busy": "2022-11-17T20:55:55.444168Z",
     "iopub.status.idle": "2022-11-17T20:55:55.449712Z",
     "shell.execute_reply": "2022-11-17T20:55:55.448898Z",
     "shell.execute_reply.started": "2022-11-17T20:55:55.444541Z"
    },
    "tags": []
   },
   "source": [
    "Question 3\n",
    "\n",
    "What is the median of training accuracy for all the epochs for this model?\n",
    "\n",
    "    0.40\n",
    "    0.60\n",
    "    -> 0.90\n",
    "    0.20\n"
   ]
  },
  {
   "cell_type": "code",
   "execution_count": 8,
   "id": "b40f5b61-4ed9-4cea-8592-d5b779da3526",
   "metadata": {
    "execution": {
     "iopub.execute_input": "2022-11-21T08:04:28.018784Z",
     "iopub.status.busy": "2022-11-21T08:04:28.018403Z",
     "iopub.status.idle": "2022-11-21T08:04:28.028621Z",
     "shell.execute_reply": "2022-11-21T08:04:28.027781Z",
     "shell.execute_reply.started": "2022-11-21T08:04:28.018760Z"
    },
    "tags": []
   },
   "outputs": [
    {
     "data": {
      "text/plain": [
       "0.846612274646759"
      ]
     },
     "execution_count": 8,
     "metadata": {},
     "output_type": "execute_result"
    }
   ],
   "source": [
    "import numpy as np\n",
    "np.median(history.history['accuracy'])"
   ]
  },
  {
   "cell_type": "markdown",
   "id": "328b71ef-6e12-4f1f-a8b3-15c5f19bf99a",
   "metadata": {},
   "source": [
    "Question 4\n",
    "\n",
    "What is the standard deviation of training loss for all the epochs for this model?\n",
    "\n",
    "    -> 0.11\n",
    "    0.66\n",
    "    0.99\n",
    "    0.33"
   ]
  },
  {
   "cell_type": "code",
   "execution_count": 9,
   "id": "7852d5b4-84fb-4e87-a8a9-a528cde7f63d",
   "metadata": {
    "execution": {
     "iopub.execute_input": "2022-11-21T08:04:41.217338Z",
     "iopub.status.busy": "2022-11-21T08:04:41.216937Z",
     "iopub.status.idle": "2022-11-21T08:04:41.222798Z",
     "shell.execute_reply": "2022-11-21T08:04:41.222109Z",
     "shell.execute_reply.started": "2022-11-21T08:04:41.217312Z"
    },
    "tags": []
   },
   "outputs": [
    {
     "data": {
      "text/plain": [
       "0.14498461389631426"
      ]
     },
     "execution_count": 9,
     "metadata": {},
     "output_type": "execute_result"
    }
   ],
   "source": [
    "np.std(history.history[\"loss\"])"
   ]
  },
  {
   "cell_type": "markdown",
   "id": "3fc3115a-59af-4240-a0ed-84819e03261d",
   "metadata": {},
   "source": [
    "Data Augmentation\n",
    "\n",
    "For the next two questions, we'll generate more data using data augmentations.\n",
    "\n",
    "Add the following augmentations to your training data generator:\n",
    "\n",
    "    rotation_range=40,\n",
    "    width_shift_range=0.2,\n",
    "    height_shift_range=0.2,\n",
    "    shear_range=0.2,\n",
    "    zoom_range=0.2,\n",
    "    horizontal_flip=True,\n",
    "    fill_mode='nearest'\n"
   ]
  },
  {
   "cell_type": "code",
   "execution_count": 11,
   "id": "d4163436-1997-42a3-9b43-a3e4dd04276c",
   "metadata": {
    "execution": {
     "iopub.execute_input": "2022-11-21T08:06:35.585298Z",
     "iopub.status.busy": "2022-11-21T08:06:35.584889Z",
     "iopub.status.idle": "2022-11-21T08:06:35.648305Z",
     "shell.execute_reply": "2022-11-21T08:06:35.647621Z",
     "shell.execute_reply.started": "2022-11-21T08:06:35.585273Z"
    },
    "tags": []
   },
   "outputs": [
    {
     "name": "stdout",
     "output_type": "stream",
     "text": [
      "Found 1594 images belonging to 2 classes.\n",
      "Found 394 images belonging to 2 classes.\n"
     ]
    }
   ],
   "source": [
    "train_generator = ImageDataGenerator(\n",
    "    rescale=1./255,\n",
    "    rotation_range=40,\n",
    "    width_shift_range=0.2,\n",
    "    height_shift_range=0.2,\n",
    "    shear_range=0.2,\n",
    "    zoom_range=0.2,\n",
    "    horizontal_flip=True,\n",
    "    fill_mode='nearest'\n",
    ")\n",
    "train_ds = train_generator.flow_from_directory(\n",
    "    './train',\n",
    "    target_size=(150, 150),\n",
    "    batch_size=20,\n",
    "    shuffle=True, \n",
    "    class_mode='binary'\n",
    ")\n",
    "test_generator = ImageDataGenerator(rescale=1./255)\n",
    "test_ds = test_generator.flow_from_directory(\n",
    "    './test',\n",
    "    target_size=(150, 150),\n",
    "    batch_size=20,\n",
    "    shuffle=False, \n",
    "    class_mode='binary'\n",
    ")"
   ]
  },
  {
   "cell_type": "markdown",
   "id": "ca19ce78-b5b7-42a7-82cb-32356d055bd6",
   "metadata": {},
   "source": [
    "Question 5\n",
    "\n",
    "Let's train our model for 10 more epochs using the same code as previously. Make sure you don't re-create the model - we want to continue training the model we already started training.\n",
    "\n",
    "What is the mean of test loss for all the epochs for the model trained with augmentations?\n",
    "\n",
    "    0.15\n",
    "    0.77\n",
    "    -> 0.37\n",
    "    0.97\n"
   ]
  },
  {
   "cell_type": "code",
   "execution_count": 12,
   "id": "c9b8df09-6926-4fac-a087-e32324a20cc8",
   "metadata": {
    "execution": {
     "iopub.execute_input": "2022-11-21T08:06:39.206942Z",
     "iopub.status.busy": "2022-11-21T08:06:39.206542Z",
     "iopub.status.idle": "2022-11-21T08:09:11.508859Z",
     "shell.execute_reply": "2022-11-21T08:09:11.508146Z",
     "shell.execute_reply.started": "2022-11-21T08:06:39.206915Z"
    },
    "tags": []
   },
   "outputs": [
    {
     "name": "stdout",
     "output_type": "stream",
     "text": [
      "Epoch 1/10\n",
      "80/80 [==============================] - 15s 193ms/step - loss: 0.4852 - accuracy: 0.7779 - val_loss: 0.3149 - val_accuracy: 0.8731\n",
      "Epoch 2/10\n",
      "80/80 [==============================] - 15s 189ms/step - loss: 0.4245 - accuracy: 0.8162 - val_loss: 0.4044 - val_accuracy: 0.8147\n",
      "Epoch 3/10\n",
      "80/80 [==============================] - 15s 191ms/step - loss: 0.4210 - accuracy: 0.8087 - val_loss: 0.4635 - val_accuracy: 0.7919\n",
      "Epoch 4/10\n",
      "80/80 [==============================] - 15s 190ms/step - loss: 0.4109 - accuracy: 0.8099 - val_loss: 0.3808 - val_accuracy: 0.8147\n",
      "Epoch 5/10\n",
      "80/80 [==============================] - 15s 190ms/step - loss: 0.4279 - accuracy: 0.7861 - val_loss: 0.3178 - val_accuracy: 0.8553\n",
      "Epoch 6/10\n",
      "80/80 [==============================] - 15s 190ms/step - loss: 0.4017 - accuracy: 0.8193 - val_loss: 0.2542 - val_accuracy: 0.9086\n",
      "Epoch 7/10\n",
      "80/80 [==============================] - 15s 190ms/step - loss: 0.3940 - accuracy: 0.8218 - val_loss: 0.3790 - val_accuracy: 0.8223\n",
      "Epoch 8/10\n",
      "80/80 [==============================] - 15s 189ms/step - loss: 0.3726 - accuracy: 0.8469 - val_loss: 0.5624 - val_accuracy: 0.7665\n",
      "Epoch 9/10\n",
      "80/80 [==============================] - 15s 190ms/step - loss: 0.3604 - accuracy: 0.8488 - val_loss: 0.3236 - val_accuracy: 0.8604\n",
      "Epoch 10/10\n",
      "80/80 [==============================] - 15s 189ms/step - loss: 0.3542 - accuracy: 0.8413 - val_loss: 0.3572 - val_accuracy: 0.8452\n"
     ]
    }
   ],
   "source": [
    "history = model.fit(\n",
    "    train_ds,\n",
    "    epochs=10,\n",
    "    validation_data=test_ds\n",
    ")"
   ]
  },
  {
   "cell_type": "code",
   "execution_count": 13,
   "id": "7ffe6130-897f-4ecb-9fa0-5cc89d4fc8ec",
   "metadata": {
    "execution": {
     "iopub.execute_input": "2022-11-21T08:09:23.297743Z",
     "iopub.status.busy": "2022-11-21T08:09:23.297350Z",
     "iopub.status.idle": "2022-11-21T08:09:23.303052Z",
     "shell.execute_reply": "2022-11-21T08:09:23.302262Z",
     "shell.execute_reply.started": "2022-11-21T08:09:23.297715Z"
    },
    "tags": []
   },
   "outputs": [
    {
     "data": {
      "text/plain": [
       "0.375788676738739"
      ]
     },
     "execution_count": 13,
     "metadata": {},
     "output_type": "execute_result"
    }
   ],
   "source": [
    "np.mean(history.history[\"val_loss\"])"
   ]
  },
  {
   "cell_type": "code",
   "execution_count": 14,
   "id": "d5adeacc-bbf3-4999-86d8-68cfbf806de2",
   "metadata": {
    "execution": {
     "iopub.execute_input": "2022-11-21T08:09:31.937392Z",
     "iopub.status.busy": "2022-11-21T08:09:31.936994Z",
     "iopub.status.idle": "2022-11-21T08:09:31.942621Z",
     "shell.execute_reply": "2022-11-21T08:09:31.941864Z",
     "shell.execute_reply.started": "2022-11-21T08:09:31.937365Z"
    },
    "tags": []
   },
   "outputs": [
    {
     "data": {
      "text/plain": [
       "0.8236040472984314"
      ]
     },
     "execution_count": 14,
     "metadata": {},
     "output_type": "execute_result"
    }
   ],
   "source": [
    "np.mean(history.history[\"val_accuracy\"][6:])"
   ]
  },
  {
   "cell_type": "markdown",
   "id": "50d58da2-1c92-46a3-8607-671e51a3163c",
   "metadata": {},
   "source": [
    "Question 6\n",
    "\n",
    "What's the average of test accuracy for the last 5 epochs (from 6 to 10) for the model trained with augmentations?\n",
    "\n",
    "    -> 0.84\n",
    "    0.54\n",
    "    0.44\n",
    "    0.24\n"
   ]
  },
  {
   "cell_type": "code",
   "execution_count": null,
   "id": "a793bc16-52b8-4c7c-b48f-4a27d642751a",
   "metadata": {},
   "outputs": [],
   "source": []
  }
 ],
 "metadata": {
  "kernelspec": {
   "display_name": "saturn (Python 3)",
   "language": "python",
   "name": "python3"
  },
  "language_info": {
   "codemirror_mode": {
    "name": "ipython",
    "version": 3
   },
   "file_extension": ".py",
   "mimetype": "text/x-python",
   "name": "python",
   "nbconvert_exporter": "python",
   "pygments_lexer": "ipython3",
   "version": "3.9.13"
  }
 },
 "nbformat": 4,
 "nbformat_minor": 5
}
