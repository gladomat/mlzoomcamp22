{
 "cells": [
  {
   "cell_type": "code",
   "execution_count": 14,
   "id": "9999585a",
   "metadata": {},
   "outputs": [],
   "source": [
    "import pandas as pd\n",
    "import seaborn as sns\n",
    "import numpy as np\n",
    "from sklearn.model_selection import train_test_split"
   ]
  },
  {
   "cell_type": "code",
   "execution_count": 2,
   "id": "dd9a81b0",
   "metadata": {},
   "outputs": [],
   "source": [
    "data = pd.read_csv('housing.csv')"
   ]
  },
  {
   "cell_type": "code",
   "execution_count": 4,
   "id": "23283b53",
   "metadata": {
    "scrolled": false
   },
   "outputs": [
    {
     "data": {
      "image/png": "[encoded data removed]",
      "text/plain": [
       "<Figure size 640x480 with 1 Axes>"
      ]
     },
     "metadata": {},
     "output_type": "display_data"
    }
   ],
   "source": [
    "sns.histplot(data.median_house_value);"
   ]
  },
  {
   "cell_type": "markdown",
   "id": "2e1d95c4",
   "metadata": {},
   "source": [
    "The feature `median_house_value` has a long tail."
   ]
  },
  {
   "cell_type": "code",
   "execution_count": 5,
   "id": "9f6fcc03",
   "metadata": {},
   "outputs": [],
   "source": [
    "features = [\n",
    "    'latitude',\n",
    "    'longitude',\n",
    "    'housing_median_age',\n",
    "    'total_rooms',\n",
    "    'total_bedrooms',\n",
    "    'population',\n",
    "    'households',\n",
    "    'median_income',\n",
    "    'median_house_value'\n",
    "]"
   ]
  },
  {
   "cell_type": "markdown",
   "id": "fb31e049",
   "metadata": {},
   "source": [
    "Select only the features listed above."
   ]
  },
  {
   "cell_type": "code",
   "execution_count": 7,
   "id": "d43a8037",
   "metadata": {},
   "outputs": [],
   "source": [
    "data = data[features]"
   ]
  },
  {
   "cell_type": "code",
   "execution_count": 8,
   "id": "3c8af4f4",
   "metadata": {
    "scrolled": true
   },
   "outputs": [
    {
     "data": {
      "text/plain": [
       "Index(['latitude', 'longitude', 'housing_median_age', 'total_rooms',\n",
       "       'total_bedrooms', 'population', 'households', 'median_income',\n",
       "       'median_house_value'],\n",
       "      dtype='object')"
      ]
     },
     "execution_count": 8,
     "metadata": {},
     "output_type": "execute_result"
    }
   ],
   "source": [
    "data.columns"
   ]
  },
  {
   "cell_type": "markdown",
   "id": "b78c2669",
   "metadata": {},
   "source": [
    "## Question 1\n",
    "Find a feature with missing values. How many missing values does it have?"
   ]
  },
  {
   "cell_type": "code",
   "execution_count": 10,
   "id": "fedf9016",
   "metadata": {},
   "outputs": [
    {
     "data": {
      "text/plain": [
       "Index(['total_bedrooms'], dtype='object')"
      ]
     },
     "execution_count": 10,
     "metadata": {},
     "output_type": "execute_result"
    }
   ],
   "source": [
    "data.columns[data.isnull().any()]"
   ]
  },
  {
   "cell_type": "code",
   "execution_count": 12,
   "id": "26047ab1",
   "metadata": {},
   "outputs": [
    {
     "data": {
      "text/plain": [
       "207"
      ]
     },
     "execution_count": 12,
     "metadata": {},
     "output_type": "execute_result"
    }
   ],
   "source": [
    "np.sum(data['total_bedrooms'].isnull())"
   ]
  },
  {
   "cell_type": "markdown",
   "id": "c20c7e55",
   "metadata": {},
   "source": [
    "## Question 2\n",
    "What's the median (50% percentile) for variable 'population'?"
   ]
  },
  {
   "cell_type": "code",
   "execution_count": 19,
   "id": "bc6710bd",
   "metadata": {},
   "outputs": [
    {
     "data": {
      "text/plain": [
       "1166"
      ]
     },
     "execution_count": 19,
     "metadata": {},
     "output_type": "execute_result"
    }
   ],
   "source": [
    "int(data.population.median())"
   ]
  },
  {
   "cell_type": "markdown",
   "id": "6e241857",
   "metadata": {},
   "source": [
    "## Split the data\n",
    "\n",
    "    Shuffle the initial dataset, use seed 42.\n",
    "    Split your data in train/val/test sets, with 60%/20%/20% distribution.\n",
    "    Make sure that the target value ('median_house_value') is not in your dataframe.\n",
    "    Apply the log transformation to the median_house_value variable using the np.log1p() function.\n",
    "\n"
   ]
  },
  {
   "cell_type": "code",
   "execution_count": 18,
   "id": "d9a30b43",
   "metadata": {},
   "outputs": [],
   "source": [
    "data = data.sample(frac=1, random_state=42)"
   ]
  },
  {
   "cell_type": "code",
   "execution_count": 50,
   "id": "9d698cd7",
   "metadata": {},
   "outputs": [],
   "source": [
    "X = data.drop(columns=['median_house_value'])\n",
    "y = data['median_house_value']"
   ]
  },
  {
   "cell_type": "code",
   "execution_count": 68,
   "id": "4e8f83ce",
   "metadata": {},
   "outputs": [],
   "source": [
    "X_train, X_test, y_train, y_test = train_test_split(\n",
    "    X, y, test_size=0.2, random_state=42)\n",
    "X_train, X_val, y_train, y_val = train_test_split(\n",
    "    X_train, y_train, test_size=0.25, random_state=42)"
   ]
  },
  {
   "cell_type": "code",
   "execution_count": 74,
   "id": "6ef51be3",
   "metadata": {},
   "outputs": [],
   "source": [
    "def prepare_data_zero(x, y):\n",
    "    x['total_bedrooms'].replace([np.nan], 0, inplace=True)\n",
    "    y = np.log1p(y)\n",
    "    return x, y"
   ]
  },
  {
   "cell_type": "markdown",
   "id": "16671ed0",
   "metadata": {},
   "source": [
    "## Question 3\n",
    "\n",
    "    We need to deal with missing values for the column from Q1.\n",
    "    We have two options: fill it with 0 or with the mean of this variable.\n",
    "    Try both options. For each, train a linear regression model without regularization using the code from the lessons.\n",
    "    For computing the mean, use the training only!\n",
    "    Use the validation dataset to evaluate the models and compare the RMSE of each option.\n",
    "    Round the RMSE scores to 2 decimal digits using round(score, 2)\n",
    "    Which option gives better RMSE?\n"
   ]
  },
  {
   "cell_type": "markdown",
   "id": "8b486503",
   "metadata": {},
   "source": [
    "Fill missing values with 0"
   ]
  },
  {
   "cell_type": "code",
   "execution_count": 71,
   "id": "45a00cc9",
   "metadata": {},
   "outputs": [
    {
     "data": {
      "text/plain": [
       "latitude              0\n",
       "longitude             0\n",
       "housing_median_age    0\n",
       "total_rooms           0\n",
       "total_bedrooms        0\n",
       "population            0\n",
       "households            0\n",
       "median_income         0\n",
       "dtype: int64"
      ]
     },
     "execution_count": 71,
     "metadata": {},
     "output_type": "execute_result"
    }
   ],
   "source": [
    "X_train.isnull().sum()"
   ]
  },
  {
   "cell_type": "code",
   "execution_count": 29,
   "id": "72b79c7e",
   "metadata": {},
   "outputs": [],
   "source": [
    "def train_linear_regression(X, y):\n",
    "    ones = np.ones(X.shape[0])\n",
    "    X = np.column_stack([ones, X])\n",
    "\n",
    "    XTX = X.T.dot(X)\n",
    "    XTX_inv = np.linalg.inv(XTX)\n",
    "    w_full = XTX_inv.dot(X.T).dot(y)\n",
    "    \n",
    "    return w_full[0], w_full[1:]"
   ]
  },
  {
   "cell_type": "code",
   "execution_count": 75,
   "id": "dff38427",
   "metadata": {},
   "outputs": [],
   "source": [
    "X_train, y_train = prepare_data_zero(X_train, y_train)"
   ]
  },
  {
   "cell_type": "code",
   "execution_count": 76,
   "id": "96abe6bc",
   "metadata": {
    "scrolled": true
   },
   "outputs": [],
   "source": [
    "w0, w = train_linear_regression(X_train, y_train)"
   ]
  },
  {
   "cell_type": "code",
   "execution_count": 77,
   "id": "81be57dc",
   "metadata": {},
   "outputs": [],
   "source": [
    "y_pred = w0 + X_train.dot(w)"
   ]
  },
  {
   "cell_type": "code",
   "execution_count": 78,
   "id": "14c8f7d0",
   "metadata": {
    "scrolled": false
   },
   "outputs": [
    {
     "data": {
      "image/png": "[encoded data removed]",
      "text/plain": [
       "<Figure size 640x480 with 1 Axes>"
      ]
     },
     "metadata": {},
     "output_type": "display_data"
    }
   ],
   "source": [
    "sns.histplot(y_train)\n",
    "sns.histplot(y_pred);"
   ]
  },
  {
   "cell_type": "code",
   "execution_count": 79,
   "id": "d27cfabb",
   "metadata": {},
   "outputs": [],
   "source": [
    "X_val, y_val = prepare_data_zero(X_val, y_val)"
   ]
  },
  {
   "cell_type": "code",
   "execution_count": 80,
   "id": "2bde8b14",
   "metadata": {},
   "outputs": [],
   "source": [
    "y_pred = w0 + X_val.dot(w)"
   ]
  },
  {
   "cell_type": "code",
   "execution_count": 81,
   "id": "64ab4d9a",
   "metadata": {},
   "outputs": [],
   "source": [
    "def rmse(y, y_pred):\n",
    "    se = (y - y_pred) ** 2\n",
    "    mse = se.mean()\n",
    "    return np.sqrt(mse)"
   ]
  },
  {
   "cell_type": "code",
   "execution_count": 83,
   "id": "c0527d20",
   "metadata": {},
   "outputs": [
    {
     "data": {
      "text/plain": [
       "0.03"
      ]
     },
     "execution_count": 83,
     "metadata": {},
     "output_type": "execute_result"
    }
   ],
   "source": [
    "np.round(rmse(y_val, y_pred), 2)"
   ]
  },
  {
   "cell_type": "markdown",
   "id": "da235e79",
   "metadata": {},
   "source": [
    "### Fill with mean"
   ]
  },
  {
   "cell_type": "code",
   "execution_count": 84,
   "id": "97a2fc12",
   "metadata": {},
   "outputs": [],
   "source": [
    "X_train, X_test, y_train, y_test = train_test_split(\n",
    "    X, y, test_size=0.2, random_state=42)\n",
    "X_train, X_val, y_train, y_val = train_test_split(\n",
    "    X_train, y_train, test_size=0.25, random_state=42)"
   ]
  },
  {
   "cell_type": "code",
   "execution_count": 85,
   "id": "c2d66ae1",
   "metadata": {},
   "outputs": [],
   "source": [
    "def prepare_data_mean(x, y):\n",
    "    x['total_bedrooms'].replace([np.nan], x['total_bedrooms'].mean(), inplace=True)\n",
    "    y = np.log1p(y)\n",
    "    return x, y"
   ]
  },
  {
   "cell_type": "code",
   "execution_count": 86,
   "id": "a2e8fc18",
   "metadata": {},
   "outputs": [],
   "source": [
    "X_val, y_val = prepare_data_zero(X_val, y_val)\n",
    "X_train, y_train = prepare_data_zero(X_train, y_train)"
   ]
  },
  {
   "cell_type": "code",
   "execution_count": 87,
   "id": "fe1cf9b1",
   "metadata": {},
   "outputs": [
    {
     "data": {
      "text/plain": [
       "0.34"
      ]
     },
     "execution_count": 87,
     "metadata": {},
     "output_type": "execute_result"
    }
   ],
   "source": [
    "w0, w = train_linear_regression(X_train, y_train)\n",
    "y_pred = w0 + X_val.dot(w)\n",
    "np.round(rmse(y_val, y_pred), 2)"
   ]
  },
  {
   "cell_type": "markdown",
   "id": "8b1869ed",
   "metadata": {},
   "source": [
    "Filling with 0 gives better RMSE-."
   ]
  }
 ],
 "metadata": {
  "kernelspec": {
   "display_name": "Python 3 (ipykernel)",
   "language": "python",
   "name": "python3"
  },
  "language_info": {
   "codemirror_mode": {
    "name": "ipython",
    "version": 3
   },
   "file_extension": ".py",
   "mimetype": "text/x-python",
   "name": "python",
   "nbconvert_exporter": "python",
   "pygments_lexer": "ipython3",
   "version": "3.9.13"
  }
 },
 "nbformat": 4,
 "nbformat_minor": 5
}
