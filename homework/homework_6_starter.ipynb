{
  "cells": [
    {
      "cell_type": "markdown",
      "metadata": {
        "id": "-JrenrSGmAeg"
      },
      "source": [
        "**HOMEWORK**  \n",
        "\n",
        "The goal of this homework is to create a regression model for predicting housing prices (column 'median_house_value').  \n",
        "\n",
        "In this homework we'll again use the California Housing Prices dataset - the same one we used in homework 2 and 3.\n",
        "\n",
        "You can take it from [Kaggle](https://www.kaggle.com/datasets/camnugent/california-housing-prices) or download using wget link mentioned below:\n",
        "\n",
        "```\n",
        "wget https://raw.githubusercontent.com/alexeygrigorev/datasets/master/housing.csv\n",
        "\n",
        "```\n",
        "\n"
      ]
    },
    {
      "cell_type": "code",
      "execution_count": 3,
      "metadata": {
        "id": "nLosiCNJUjDM"
      },
      "outputs": [],
      "source": [
        "#@ IMPORTING LIBRARIES AND DEPENDENCIES:\n",
        "import re\n",
        "import numpy as np\n",
        "import pandas as pd\n",
        "import seaborn as sns\n",
        "import xgboost as xgb\n",
        "import matplotlib.pyplot as plt\n",
        "from tqdm.auto import tqdm\n",
        "from sklearn.tree import DecisionTreeRegressor\n",
        "from sklearn.tree import export_text\n",
        "from sklearn.feature_extraction import DictVectorizer\n",
        "from sklearn.model_selection import train_test_split\n",
        "from sklearn.ensemble import RandomForestRegressor\n",
        "from sklearn.metrics import mean_squared_error\n",
        "\n",
        "%matplotlib inline"
      ]
    },
    {
      "cell_type": "code",
      "execution_count": null,
      "metadata": {
        "id": "4Psk224nnyIF"
      },
      "outputs": [],
      "source": [
        "#@ DOWNLOADING THE DATASET: UNCOMMENT BELOW:\n",
        "!wget https://raw.githubusercontent.com/alexeygrigorev/datasets/master/housing.csv"
      ]
    },
    {
      "cell_type": "code",
      "execution_count": 4,
      "metadata": {
        "id": "492Hn6-3n08G"
      },
      "outputs": [],
      "source": [
        "#@ READING DATASET:\n",
        "PATH = \"./housing.csv\"\n",
        "select_cols = [\"longitude\", \"latitude\", \"housing_median_age\", \"total_rooms\", \"total_bedrooms\", \"population\", \"households\", \n",
        "               \"median_income\", \"median_house_value\", \"ocean_proximity\"]\n",
        "df = pd.read_csv(PATH, usecols=select_cols)\n",
        "df.total_bedrooms = df.total_bedrooms.fillna(0)"
      ]
    },
    {
      "cell_type": "markdown",
      "metadata": {
        "id": "OqXppJ_Ro0H0"
      },
      "source": [
        "- Apply the log transform to `median_house_value`. \n",
        "- Do train/validation/test split with 60%/20%/20% distribution.\n",
        "- Use the `train_test_split` function and set the `random_state parameter` to 1."
      ]
    },
    {
      "cell_type": "code",
      "execution_count": 6,
      "metadata": {},
      "outputs": [],
      "source": [
        "#@ apply log transform to median_house_value\n",
        "df[\"median_house_value\"] = np.log1p(df[\"median_house_value\"])"
      ]
    },
    {
      "cell_type": "code",
      "execution_count": 7,
      "metadata": {
        "id": "W1MmdcRDpHS1"
      },
      "outputs": [],
      "source": [
        "#@ SPLITTING THE DATASET FOR TRAINING AND TEST:\n",
        "X = df.drop(columns=['median_house_value'])\n",
        "y = df['median_house_value']\n",
        "\n",
        "X_train_full, X_test, y_train_full, y_test = train_test_split(X, y, test_size=0.2, random_state=1)\n",
        "X_train, X_val, y_train, y_val = train_test_split(X_train_full, y_train_full, test_size=0.25, random_state=1)"
      ]
    },
    {
      "cell_type": "markdown",
      "metadata": {
        "id": "5VKq8FX7qIVM"
      },
      "source": [
        "- We will use `DictVectorizer` to turn train and validation into matrices."
      ]
    },
    {
      "cell_type": "code",
      "execution_count": 8,
      "metadata": {
        "id": "WnfFrWe9qtuc"
      },
      "outputs": [],
      "source": [
        "#@ IMPLEMENTATION OF DICTVECTORIZER:\n",
        "train_dict = X_train.to_dict(orient='records')\n",
        "val_dict = X_val.to_dict(orient='records')\n",
        "\n",
        "dv = DictVectorizer(sparse=False)\n",
        "dv.fit(train_dict)\n",
        "\n",
        "X_train = dv.transform(train_dict)\n",
        "X_val = dv.transform(val_dict)"
      ]
    },
    {
      "cell_type": "markdown",
      "metadata": {
        "id": "qvxmhaD5hmAK"
      },
      "source": [
        "**Question 1**\n",
        "\n",
        "Let's train a decision tree regressor to predict the `median_house_value` variable.\n",
        "\n",
        "Train a model with `max_depth=1`."
      ]
    },
    {
      "cell_type": "code",
      "execution_count": 9,
      "metadata": {
        "id": "cqBcSbpIq7kJ"
      },
      "outputs": [
        {
          "data": {
            "text/html": [
              "<style>#sk-container-id-1 {color: black;background-color: white;}#sk-container-id-1 pre{padding: 0;}#sk-container-id-1 div.sk-toggleable {background-color: white;}#sk-container-id-1 label.sk-toggleable__label {cursor: pointer;display: block;width: 100%;margin-bottom: 0;padding: 0.3em;box-sizing: border-box;text-align: center;}#sk-container-id-1 label.sk-toggleable__label-arrow:before {content: \"▸\";float: left;margin-right: 0.25em;color: #696969;}#sk-container-id-1 label.sk-toggleable__label-arrow:hover:before {color: black;}#sk-container-id-1 div.sk-estimator:hover label.sk-toggleable__label-arrow:before {color: black;}#sk-container-id-1 div.sk-toggleable__content {max-height: 0;max-width: 0;overflow: hidden;text-align: left;background-color: #f0f8ff;}#sk-container-id-1 div.sk-toggleable__content pre {margin: 0.2em;color: black;border-radius: 0.25em;background-color: #f0f8ff;}#sk-container-id-1 input.sk-toggleable__control:checked~div.sk-toggleable__content {max-height: 200px;max-width: 100%;overflow: auto;}#sk-container-id-1 input.sk-toggleable__control:checked~label.sk-toggleable__label-arrow:before {content: \"▾\";}#sk-container-id-1 div.sk-estimator input.sk-toggleable__control:checked~label.sk-toggleable__label {background-color: #d4ebff;}#sk-container-id-1 div.sk-label input.sk-toggleable__control:checked~label.sk-toggleable__label {background-color: #d4ebff;}#sk-container-id-1 input.sk-hidden--visually {border: 0;clip: rect(1px 1px 1px 1px);clip: rect(1px, 1px, 1px, 1px);height: 1px;margin: -1px;overflow: hidden;padding: 0;position: absolute;width: 1px;}#sk-container-id-1 div.sk-estimator {font-family: monospace;background-color: #f0f8ff;border: 1px dotted black;border-radius: 0.25em;box-sizing: border-box;margin-bottom: 0.5em;}#sk-container-id-1 div.sk-estimator:hover {background-color: #d4ebff;}#sk-container-id-1 div.sk-parallel-item::after {content: \"\";width: 100%;border-bottom: 1px solid gray;flex-grow: 1;}#sk-container-id-1 div.sk-label:hover label.sk-toggleable__label {background-color: #d4ebff;}#sk-container-id-1 div.sk-serial::before {content: \"\";position: absolute;border-left: 1px solid gray;box-sizing: border-box;top: 0;bottom: 0;left: 50%;z-index: 0;}#sk-container-id-1 div.sk-serial {display: flex;flex-direction: column;align-items: center;background-color: white;padding-right: 0.2em;padding-left: 0.2em;position: relative;}#sk-container-id-1 div.sk-item {position: relative;z-index: 1;}#sk-container-id-1 div.sk-parallel {display: flex;align-items: stretch;justify-content: center;background-color: white;position: relative;}#sk-container-id-1 div.sk-item::before, #sk-container-id-1 div.sk-parallel-item::before {content: \"\";position: absolute;border-left: 1px solid gray;box-sizing: border-box;top: 0;bottom: 0;left: 50%;z-index: -1;}#sk-container-id-1 div.sk-parallel-item {display: flex;flex-direction: column;z-index: 1;position: relative;background-color: white;}#sk-container-id-1 div.sk-parallel-item:first-child::after {align-self: flex-end;width: 50%;}#sk-container-id-1 div.sk-parallel-item:last-child::after {align-self: flex-start;width: 50%;}#sk-container-id-1 div.sk-parallel-item:only-child::after {width: 0;}#sk-container-id-1 div.sk-dashed-wrapped {border: 1px dashed gray;margin: 0 0.4em 0.5em 0.4em;box-sizing: border-box;padding-bottom: 0.4em;background-color: white;}#sk-container-id-1 div.sk-label label {font-family: monospace;font-weight: bold;display: inline-block;line-height: 1.2em;}#sk-container-id-1 div.sk-label-container {text-align: center;}#sk-container-id-1 div.sk-container {/* jupyter's `normalize.less` sets `[hidden] { display: none; }` but bootstrap.min.css set `[hidden] { display: none !important; }` so we also need the `!important` here to be able to override the default hidden behavior on the sphinx rendered scikit-learn.org. See: https://github.com/scikit-learn/scikit-learn/issues/21755 */display: inline-block !important;position: relative;}#sk-container-id-1 div.sk-text-repr-fallback {display: none;}</style><div id=\"sk-container-id-1\" class=\"sk-top-container\"><div class=\"sk-text-repr-fallback\"><pre>DecisionTreeRegressor(max_depth=1)</pre><b>In a Jupyter environment, please rerun this cell to show the HTML representation or trust the notebook. <br />On GitHub, the HTML representation is unable to render, please try loading this page with nbviewer.org.</b></div><div class=\"sk-container\" hidden><div class=\"sk-item\"><div class=\"sk-estimator sk-toggleable\"><input class=\"sk-toggleable__control sk-hidden--visually\" id=\"sk-estimator-id-1\" type=\"checkbox\" checked><label for=\"sk-estimator-id-1\" class=\"sk-toggleable__label sk-toggleable__label-arrow\">DecisionTreeRegressor</label><div class=\"sk-toggleable__content\"><pre>DecisionTreeRegressor(max_depth=1)</pre></div></div></div></div></div>"
            ],
            "text/plain": [
              "DecisionTreeRegressor(max_depth=1)"
            ]
          },
          "execution_count": 9,
          "metadata": {},
          "output_type": "execute_result"
        }
      ],
      "source": [
        "#@ TRAINING THE REGRESSION MODEL:\n",
        "model_dt = DecisionTreeRegressor(max_depth=1)\n",
        "model_dt.fit(X_train, y_train)"
      ]
    },
    {
      "cell_type": "code",
      "execution_count": 10,
      "metadata": {
        "id": "sLAnqRwuikqQ"
      },
      "outputs": [
        {
          "name": "stdout",
          "output_type": "stream",
          "text": [
            "|--- ocean_proximity=INLAND <= 0.50\n",
            "|   |--- value: [12.31]\n",
            "|--- ocean_proximity=INLAND >  0.50\n",
            "|   |--- value: [11.61]\n",
            "\n"
          ]
        },
        {
          "name": "stderr",
          "output_type": "stream",
          "text": [
            "/home/test/.local/lib/python3.9/site-packages/sklearn/utils/deprecation.py:87: FutureWarning: Function get_feature_names is deprecated; get_feature_names is deprecated in 1.0 and will be removed in 1.2. Please use get_feature_names_out instead.\n",
            "  warnings.warn(msg, category=FutureWarning)\n"
          ]
        }
      ],
      "source": [
        "#@ INSPECTION:\n",
        "from sklearn.tree import export_text\n",
        "\n",
        "print(export_text(model_dt, feature_names=dv.get_feature_names()))"
      ]
    },
    {
      "cell_type": "markdown",
      "metadata": {
        "id": "JNBm-qeRp6aZ"
      },
      "source": [
        "- Which feature is used for splitting the data?\n",
        "\n",
        "- Answer: Ocean porximity"
      ]
    },
    {
      "cell_type": "markdown",
      "metadata": {
        "id": "Xhnbdy-CqQoB"
      },
      "source": [
        "**Question 2**\n",
        "\n",
        "Train a random forest model with these parameters:\n",
        "\n",
        "- `n_estimators=10`  \n",
        "- `random_state=1`  \n",
        "- `n_jobs=-1` (optional-to make training faster)"
      ]
    },
    {
      "cell_type": "code",
      "execution_count": 11,
      "metadata": {
        "id": "2w-YSGYMisFt"
      },
      "outputs": [
        {
          "data": {
            "text/html": [
              "<style>#sk-container-id-2 {color: black;background-color: white;}#sk-container-id-2 pre{padding: 0;}#sk-container-id-2 div.sk-toggleable {background-color: white;}#sk-container-id-2 label.sk-toggleable__label {cursor: pointer;display: block;width: 100%;margin-bottom: 0;padding: 0.3em;box-sizing: border-box;text-align: center;}#sk-container-id-2 label.sk-toggleable__label-arrow:before {content: \"▸\";float: left;margin-right: 0.25em;color: #696969;}#sk-container-id-2 label.sk-toggleable__label-arrow:hover:before {color: black;}#sk-container-id-2 div.sk-estimator:hover label.sk-toggleable__label-arrow:before {color: black;}#sk-container-id-2 div.sk-toggleable__content {max-height: 0;max-width: 0;overflow: hidden;text-align: left;background-color: #f0f8ff;}#sk-container-id-2 div.sk-toggleable__content pre {margin: 0.2em;color: black;border-radius: 0.25em;background-color: #f0f8ff;}#sk-container-id-2 input.sk-toggleable__control:checked~div.sk-toggleable__content {max-height: 200px;max-width: 100%;overflow: auto;}#sk-container-id-2 input.sk-toggleable__control:checked~label.sk-toggleable__label-arrow:before {content: \"▾\";}#sk-container-id-2 div.sk-estimator input.sk-toggleable__control:checked~label.sk-toggleable__label {background-color: #d4ebff;}#sk-container-id-2 div.sk-label input.sk-toggleable__control:checked~label.sk-toggleable__label {background-color: #d4ebff;}#sk-container-id-2 input.sk-hidden--visually {border: 0;clip: rect(1px 1px 1px 1px);clip: rect(1px, 1px, 1px, 1px);height: 1px;margin: -1px;overflow: hidden;padding: 0;position: absolute;width: 1px;}#sk-container-id-2 div.sk-estimator {font-family: monospace;background-color: #f0f8ff;border: 1px dotted black;border-radius: 0.25em;box-sizing: border-box;margin-bottom: 0.5em;}#sk-container-id-2 div.sk-estimator:hover {background-color: #d4ebff;}#sk-container-id-2 div.sk-parallel-item::after {content: \"\";width: 100%;border-bottom: 1px solid gray;flex-grow: 1;}#sk-container-id-2 div.sk-label:hover label.sk-toggleable__label {background-color: #d4ebff;}#sk-container-id-2 div.sk-serial::before {content: \"\";position: absolute;border-left: 1px solid gray;box-sizing: border-box;top: 0;bottom: 0;left: 50%;z-index: 0;}#sk-container-id-2 div.sk-serial {display: flex;flex-direction: column;align-items: center;background-color: white;padding-right: 0.2em;padding-left: 0.2em;position: relative;}#sk-container-id-2 div.sk-item {position: relative;z-index: 1;}#sk-container-id-2 div.sk-parallel {display: flex;align-items: stretch;justify-content: center;background-color: white;position: relative;}#sk-container-id-2 div.sk-item::before, #sk-container-id-2 div.sk-parallel-item::before {content: \"\";position: absolute;border-left: 1px solid gray;box-sizing: border-box;top: 0;bottom: 0;left: 50%;z-index: -1;}#sk-container-id-2 div.sk-parallel-item {display: flex;flex-direction: column;z-index: 1;position: relative;background-color: white;}#sk-container-id-2 div.sk-parallel-item:first-child::after {align-self: flex-end;width: 50%;}#sk-container-id-2 div.sk-parallel-item:last-child::after {align-self: flex-start;width: 50%;}#sk-container-id-2 div.sk-parallel-item:only-child::after {width: 0;}#sk-container-id-2 div.sk-dashed-wrapped {border: 1px dashed gray;margin: 0 0.4em 0.5em 0.4em;box-sizing: border-box;padding-bottom: 0.4em;background-color: white;}#sk-container-id-2 div.sk-label label {font-family: monospace;font-weight: bold;display: inline-block;line-height: 1.2em;}#sk-container-id-2 div.sk-label-container {text-align: center;}#sk-container-id-2 div.sk-container {/* jupyter's `normalize.less` sets `[hidden] { display: none; }` but bootstrap.min.css set `[hidden] { display: none !important; }` so we also need the `!important` here to be able to override the default hidden behavior on the sphinx rendered scikit-learn.org. See: https://github.com/scikit-learn/scikit-learn/issues/21755 */display: inline-block !important;position: relative;}#sk-container-id-2 div.sk-text-repr-fallback {display: none;}</style><div id=\"sk-container-id-2\" class=\"sk-top-container\"><div class=\"sk-text-repr-fallback\"><pre>RandomForestRegressor(n_estimators=10, n_jobs=-1, random_state=1)</pre><b>In a Jupyter environment, please rerun this cell to show the HTML representation or trust the notebook. <br />On GitHub, the HTML representation is unable to render, please try loading this page with nbviewer.org.</b></div><div class=\"sk-container\" hidden><div class=\"sk-item\"><div class=\"sk-estimator sk-toggleable\"><input class=\"sk-toggleable__control sk-hidden--visually\" id=\"sk-estimator-id-2\" type=\"checkbox\" checked><label for=\"sk-estimator-id-2\" class=\"sk-toggleable__label sk-toggleable__label-arrow\">RandomForestRegressor</label><div class=\"sk-toggleable__content\"><pre>RandomForestRegressor(n_estimators=10, n_jobs=-1, random_state=1)</pre></div></div></div></div></div>"
            ],
            "text/plain": [
              "RandomForestRegressor(n_estimators=10, n_jobs=-1, random_state=1)"
            ]
          },
          "execution_count": 11,
          "metadata": {},
          "output_type": "execute_result"
        }
      ],
      "source": [
        "#@ TRAINING RANDOM FOREST MODEL:\n",
        "model_rf = RandomForestRegressor(n_estimators=10, random_state=1, n_jobs=-1)\n",
        "model_rf.fit(X_train, y_train)"
      ]
    },
    {
      "cell_type": "code",
      "execution_count": 14,
      "metadata": {
        "id": "jCxUAO2Rq1Ps"
      },
      "outputs": [
        {
          "data": {
            "text/plain": [
              "0.25"
            ]
          },
          "execution_count": 14,
          "metadata": {},
          "output_type": "execute_result"
        }
      ],
      "source": [
        "#@ CALCULATING MEAN SQUARED ERROR:\n",
        "y_pred = model_rf.predict(X_val)\n",
        "rmse = mean_squared_error(y_val, y_pred, squared=False)\n",
        "round(rmse, 2)"
      ]
    },
    {
      "cell_type": "markdown",
      "metadata": {
        "id": "jfcDllHxrTqu"
      },
      "source": [
        "- What's the RMSE of this model on validation?\n",
        "\n",
        "- Answer: 0.25"
      ]
    },
    {
      "cell_type": "markdown",
      "metadata": {
        "id": "Y7K69bFSrg_V"
      },
      "source": [
        "**Question 3**\n",
        "\n",
        "Now, let's experiment with the `n_estimators` parameter.\n",
        "\n",
        "- Try different values of this parameter from 10 to 200 with step 10.\n",
        "- Set `random_state` to 1.\n",
        "- Evaluate the model on the validation dataset."
      ]
    },
    {
      "cell_type": "code",
      "execution_count": 18,
      "metadata": {
        "id": "-oUFCQwOrQNN"
      },
      "outputs": [
        {
          "data": {
            "application/vnd.jupyter.widget-view+json": {
              "model_id": "5598ccbd17694b3084bb8d389e9e167a",
              "version_major": 2,
              "version_minor": 0
            },
            "text/plain": [
              "  0%|          | 0/20 [00:00<?, ?it/s]"
            ]
          },
          "metadata": {},
          "output_type": "display_data"
        },
        {
          "name": "stdout",
          "output_type": "stream",
          "text": [
            "10 0.25\n",
            "20 0.24\n",
            "30 0.24\n",
            "40 0.23\n",
            "50 0.23\n",
            "60 0.23\n",
            "70 0.23\n",
            "80 0.23\n",
            "90 0.23\n",
            "100 0.23\n",
            "110 0.23\n",
            "120 0.23\n",
            "130 0.23\n",
            "140 0.23\n",
            "150 0.23\n",
            "160 0.23\n",
            "170 0.23\n",
            "180 0.23\n",
            "190 0.23\n",
            "200 0.23\n"
          ]
        }
      ],
      "source": [
        "#@ TRAINING THE RANDOM FOREST MODEL:\n",
        "num_estimators = range(10, 201, 10)\n",
        "\n",
        "rmse_scores = []\n",
        "for n in tqdm(num_estimators):\n",
        "    model_rf = RandomForestRegressor(n_estimators=n, random_state=1, n_jobs=-1)\n",
        "    model_rf.fit(X_train, y_train)\n",
        "    y_pred = model_rf.predict(X_val)\n",
        "    rmse = mean_squared_error(y_val, y_pred, squared=False)\n",
        "    print(n, round(rmse, 2))\n",
        "    rmse_scores.append(rmse)"
      ]
    },
    {
      "cell_type": "code",
      "execution_count": 22,
      "metadata": {
        "id": "3J-wFLh4s8Ky"
      },
      "outputs": [
        {
          "data": {
            "image/png": "[encoded data removed]",
            "text/plain": [
              "<Figure size 640x480 with 1 Axes>"
            ]
          },
          "metadata": {},
          "output_type": "display_data"
        }
      ],
      "source": [
        "#@ INSPECTING THE RMSE SCORES:\n",
        "# plot num_estimators vs rmse\n",
        "plt.plot(num_estimators, rmse_scores)\n",
        "plt.ylim(0.23, 0.236)\n",
        "plt.xlabel(\"num_estimators\")\n",
        "plt.ylabel(\"RMSE\");"
      ]
    },
    {
      "cell_type": "markdown",
      "metadata": {
        "id": "NAXZcW3AuC-d"
      },
      "source": [
        "- After which value of `n_estimators` does RMSE stop improving?\n",
        "\n",
        "- Answer: 110 or 150"
      ]
    },
    {
      "cell_type": "markdown",
      "metadata": {
        "id": "CYhRv3kEvWjK"
      },
      "source": [
        "**Question 4**\n",
        "\n",
        "Let's select the best `max_depth`:\n",
        "\n",
        "- Try different values of `max_depth`: [10, 15, 20, 25].\n",
        "- For each of these values, try different values of n_estimators from 10 till 200 (with step 10).\n",
        "- Fix the random seed: `random_state=1`."
      ]
    },
    {
      "cell_type": "code",
      "execution_count": 23,
      "metadata": {
        "id": "fO9TackKvKcS"
      },
      "outputs": [
        {
          "name": "stdout",
          "output_type": "stream",
          "text": [
            "10 10 0.255\n",
            "10 20 0.253\n",
            "10 30 0.251\n",
            "10 40 0.251\n",
            "10 50 0.25\n",
            "10 60 0.25\n",
            "10 70 0.25\n",
            "10 80 0.25\n",
            "10 90 0.249\n",
            "10 100 0.249\n",
            "10 110 0.249\n",
            "10 120 0.249\n",
            "10 130 0.249\n",
            "10 140 0.249\n",
            "10 150 0.249\n",
            "10 160 0.249\n",
            "10 170 0.249\n",
            "10 180 0.249\n",
            "10 190 0.249\n",
            "10 200 0.249\n",
            "15 10 0.245\n",
            "15 20 0.239\n",
            "15 30 0.237\n",
            "15 40 0.236\n",
            "15 50 0.235\n",
            "15 60 0.235\n",
            "15 70 0.234\n",
            "15 80 0.234\n",
            "15 90 0.234\n",
            "15 100 0.234\n",
            "15 110 0.233\n",
            "15 120 0.233\n",
            "15 130 0.233\n",
            "15 140 0.233\n",
            "15 150 0.233\n",
            "15 160 0.233\n",
            "15 170 0.233\n",
            "15 180 0.233\n",
            "15 190 0.233\n",
            "15 200 0.233\n",
            "20 10 0.246\n",
            "20 20 0.238\n",
            "20 30 0.236\n",
            "20 40 0.235\n",
            "20 50 0.233\n",
            "20 60 0.233\n",
            "20 70 0.233\n",
            "20 80 0.233\n",
            "20 90 0.232\n",
            "20 100 0.232\n",
            "20 110 0.232\n",
            "20 120 0.232\n",
            "20 130 0.232\n",
            "20 140 0.232\n",
            "20 150 0.232\n",
            "20 160 0.232\n",
            "20 170 0.232\n",
            "20 180 0.232\n",
            "20 190 0.232\n",
            "20 200 0.232\n",
            "25 10 0.246\n",
            "25 20 0.239\n",
            "25 30 0.236\n",
            "25 40 0.235\n",
            "25 50 0.233\n",
            "25 60 0.233\n",
            "25 70 0.232\n",
            "25 80 0.232\n",
            "25 90 0.232\n",
            "25 100 0.232\n",
            "25 110 0.231\n",
            "25 120 0.231\n",
            "25 130 0.232\n",
            "25 140 0.231\n",
            "25 150 0.232\n",
            "25 160 0.231\n",
            "25 170 0.231\n",
            "25 180 0.232\n",
            "25 190 0.232\n",
            "25 200 0.231\n"
          ]
        }
      ],
      "source": [
        "#@ TRAINING THE MODEL WITH DEPTH:\n",
        "max_depth = [10, 15, 20, 25]\n",
        "rmse_scores_2 = []\n",
        "for md in max_depth:\n",
        "    for n in num_estimators:\n",
        "        model_rf = RandomForestRegressor(n_estimators=n, max_depth=md, random_state=1, n_jobs=-1)\n",
        "        model_rf.fit(X_train, y_train)\n",
        "        y_pred = model_rf.predict(X_val)\n",
        "        rmse = mean_squared_error(y_val, y_pred, squared=False)\n",
        "        print(md, n, round(rmse, 3))\n",
        "        rmse_scores_2.append(rmse)"
      ]
    },
    {
      "cell_type": "code",
      "execution_count": 31,
      "metadata": {},
      "outputs": [
        {
          "data": {
            "text/plain": [
              "3"
            ]
          },
          "execution_count": 31,
          "metadata": {},
          "output_type": "execute_result"
        }
      ],
      "source": [
        "i//len(num_estimators)"
      ]
    },
    {
      "cell_type": "code",
      "execution_count": 27,
      "metadata": {},
      "outputs": [
        {
          "data": {
            "text/plain": [
              "[0, 20, 40, 60]"
            ]
          },
          "execution_count": 27,
          "metadata": {},
          "output_type": "execute_result"
        }
      ],
      "source": [
        "list(range(0, len(rmse_scores_2), len(num_estimators)))"
      ]
    },
    {
      "cell_type": "code",
      "execution_count": 26,
      "metadata": {},
      "outputs": [
        {
          "data": {
            "image/png": "[encoded data removed]",
            "text/plain": [
              "<Figure size 640x480 with 1 Axes>"
            ]
          },
          "metadata": {},
          "output_type": "display_data"
        }
      ],
      "source": [
        "# for each max_depth, plot num_estimators vs rmse\n",
        "for i in range(0, len(rmse_scores_2), len(num_estimators)):\n",
        "    plt.plot(num_estimators, rmse_scores_2[i:i+len(num_estimators)], label=max_depth[i//len(num_estimators)])\n",
        "plt.ylim(0.23, 0.236)\n",
        "plt.xlabel(\"num_estimators\")\n",
        "plt.ylabel(\"RMSE\")\n",
        "plt.legend();"
      ]
    },
    {
      "cell_type": "markdown",
      "metadata": {
        "id": "eCRCaKlSwp7D"
      },
      "source": [
        "- What's the best `max_depth`:\n",
        "\n",
        "- Answer: 25"
      ]
    },
    {
      "cell_type": "markdown",
      "metadata": {
        "id": "BDLbx3N5xAoY"
      },
      "source": [
        "**Question 5**\n",
        "\n",
        "We can extract feature importance information from tree-based models.\n",
        "\n",
        "At each step of the decision tree learning algorith, it finds the best split. When doint it, we can calculate \"gain\" - the reduction in impurity before and after the split. This gain is quite useful in understanding what are the imporatant features for tree-based models.\n",
        "\n",
        "In Scikit-Learn, tree-based models contain this information in the `feature_importances_` field.\n",
        "\n",
        "For this homework question, we'll find the most important feature:\n",
        "\n",
        "Train the model with these parametes:\n",
        "- `n_estimators=10`,\n",
        "- `max_depth=20`,\n",
        "- `random_state=1`,\n",
        "- `n_jobs=-1` (optional)\n",
        "\n",
        "Get the feature importance information from this model"
      ]
    },
    {
      "cell_type": "code",
      "execution_count": 32,
      "metadata": {
        "id": "UICqST2Qwhbj"
      },
      "outputs": [
        {
          "data": {
            "text/html": [
              "<style>#sk-container-id-3 {color: black;background-color: white;}#sk-container-id-3 pre{padding: 0;}#sk-container-id-3 div.sk-toggleable {background-color: white;}#sk-container-id-3 label.sk-toggleable__label {cursor: pointer;display: block;width: 100%;margin-bottom: 0;padding: 0.3em;box-sizing: border-box;text-align: center;}#sk-container-id-3 label.sk-toggleable__label-arrow:before {content: \"▸\";float: left;margin-right: 0.25em;color: #696969;}#sk-container-id-3 label.sk-toggleable__label-arrow:hover:before {color: black;}#sk-container-id-3 div.sk-estimator:hover label.sk-toggleable__label-arrow:before {color: black;}#sk-container-id-3 div.sk-toggleable__content {max-height: 0;max-width: 0;overflow: hidden;text-align: left;background-color: #f0f8ff;}#sk-container-id-3 div.sk-toggleable__content pre {margin: 0.2em;color: black;border-radius: 0.25em;background-color: #f0f8ff;}#sk-container-id-3 input.sk-toggleable__control:checked~div.sk-toggleable__content {max-height: 200px;max-width: 100%;overflow: auto;}#sk-container-id-3 input.sk-toggleable__control:checked~label.sk-toggleable__label-arrow:before {content: \"▾\";}#sk-container-id-3 div.sk-estimator input.sk-toggleable__control:checked~label.sk-toggleable__label {background-color: #d4ebff;}#sk-container-id-3 div.sk-label input.sk-toggleable__control:checked~label.sk-toggleable__label {background-color: #d4ebff;}#sk-container-id-3 input.sk-hidden--visually {border: 0;clip: rect(1px 1px 1px 1px);clip: rect(1px, 1px, 1px, 1px);height: 1px;margin: -1px;overflow: hidden;padding: 0;position: absolute;width: 1px;}#sk-container-id-3 div.sk-estimator {font-family: monospace;background-color: #f0f8ff;border: 1px dotted black;border-radius: 0.25em;box-sizing: border-box;margin-bottom: 0.5em;}#sk-container-id-3 div.sk-estimator:hover {background-color: #d4ebff;}#sk-container-id-3 div.sk-parallel-item::after {content: \"\";width: 100%;border-bottom: 1px solid gray;flex-grow: 1;}#sk-container-id-3 div.sk-label:hover label.sk-toggleable__label {background-color: #d4ebff;}#sk-container-id-3 div.sk-serial::before {content: \"\";position: absolute;border-left: 1px solid gray;box-sizing: border-box;top: 0;bottom: 0;left: 50%;z-index: 0;}#sk-container-id-3 div.sk-serial {display: flex;flex-direction: column;align-items: center;background-color: white;padding-right: 0.2em;padding-left: 0.2em;position: relative;}#sk-container-id-3 div.sk-item {position: relative;z-index: 1;}#sk-container-id-3 div.sk-parallel {display: flex;align-items: stretch;justify-content: center;background-color: white;position: relative;}#sk-container-id-3 div.sk-item::before, #sk-container-id-3 div.sk-parallel-item::before {content: \"\";position: absolute;border-left: 1px solid gray;box-sizing: border-box;top: 0;bottom: 0;left: 50%;z-index: -1;}#sk-container-id-3 div.sk-parallel-item {display: flex;flex-direction: column;z-index: 1;position: relative;background-color: white;}#sk-container-id-3 div.sk-parallel-item:first-child::after {align-self: flex-end;width: 50%;}#sk-container-id-3 div.sk-parallel-item:last-child::after {align-self: flex-start;width: 50%;}#sk-container-id-3 div.sk-parallel-item:only-child::after {width: 0;}#sk-container-id-3 div.sk-dashed-wrapped {border: 1px dashed gray;margin: 0 0.4em 0.5em 0.4em;box-sizing: border-box;padding-bottom: 0.4em;background-color: white;}#sk-container-id-3 div.sk-label label {font-family: monospace;font-weight: bold;display: inline-block;line-height: 1.2em;}#sk-container-id-3 div.sk-label-container {text-align: center;}#sk-container-id-3 div.sk-container {/* jupyter's `normalize.less` sets `[hidden] { display: none; }` but bootstrap.min.css set `[hidden] { display: none !important; }` so we also need the `!important` here to be able to override the default hidden behavior on the sphinx rendered scikit-learn.org. See: https://github.com/scikit-learn/scikit-learn/issues/21755 */display: inline-block !important;position: relative;}#sk-container-id-3 div.sk-text-repr-fallback {display: none;}</style><div id=\"sk-container-id-3\" class=\"sk-top-container\"><div class=\"sk-text-repr-fallback\"><pre>RandomForestRegressor(max_depth=20, n_jobs=-1, random_state=1)</pre><b>In a Jupyter environment, please rerun this cell to show the HTML representation or trust the notebook. <br />On GitHub, the HTML representation is unable to render, please try loading this page with nbviewer.org.</b></div><div class=\"sk-container\" hidden><div class=\"sk-item\"><div class=\"sk-estimator sk-toggleable\"><input class=\"sk-toggleable__control sk-hidden--visually\" id=\"sk-estimator-id-3\" type=\"checkbox\" checked><label for=\"sk-estimator-id-3\" class=\"sk-toggleable__label sk-toggleable__label-arrow\">RandomForestRegressor</label><div class=\"sk-toggleable__content\"><pre>RandomForestRegressor(max_depth=20, n_jobs=-1, random_state=1)</pre></div></div></div></div></div>"
            ],
            "text/plain": [
              "RandomForestRegressor(max_depth=20, n_jobs=-1, random_state=1)"
            ]
          },
          "execution_count": 32,
          "metadata": {},
          "output_type": "execute_result"
        }
      ],
      "source": [
        "#@ TRAINING THE RANDOM FOREST MODEL:\n",
        "model_rf = RandomForestRegressor(n_estimators=100, max_depth=20, random_state=1, n_jobs=-1)\n",
        "model_rf.fit(X_train, y_train)"
      ]
    },
    {
      "cell_type": "code",
      "execution_count": 33,
      "metadata": {},
      "outputs": [],
      "source": [
        "# get feature importances\n",
        "importances = model_rf.feature_importances_\n",
        "indices = np.argsort(importances)[::-1]\n"
      ]
    },
    {
      "cell_type": "code",
      "execution_count": 35,
      "metadata": {},
      "outputs": [
        {
          "name": "stdout",
          "output_type": "stream",
          "text": [
            "1. feature median_income (0.3553042433226908)\n",
            "2. feature ocean_proximity=INLAND (0.3166706814020916)\n",
            "3. feature latitude (0.10146727768569597)\n",
            "4. feature longitude (0.09695290796023506)\n",
            "5. feature housing_median_age (0.03427679350907294)\n",
            "6. feature population (0.029854918513054097)\n",
            "7. feature total_rooms (0.02209293700058652)\n",
            "8. feature total_bedrooms (0.01838665317706599)\n",
            "9. feature households (0.017514505115747727)\n",
            "10. feature ocean_proximity=NEAR OCEAN (0.004795225191639865)\n"
          ]
        },
        {
          "name": "stderr",
          "output_type": "stream",
          "text": [
            "/home/test/.local/lib/python3.9/site-packages/sklearn/utils/deprecation.py:87: FutureWarning: Function get_feature_names is deprecated; get_feature_names is deprecated in 1.0 and will be removed in 1.2. Please use get_feature_names_out instead.\n",
            "  warnings.warn(msg, category=FutureWarning)\n"
          ]
        }
      ],
      "source": [
        "# get feature names\n",
        "feature_names = dv.get_feature_names()\n",
        "# print top 10 features\n",
        "for i in range(10):\n",
        "    print(f\"{i+1}. feature {feature_names[indices[i]]} ({importances[indices[i]]})\")"
      ]
    },
    {
      "cell_type": "markdown",
      "metadata": {
        "id": "kSCqlx9jye1s"
      },
      "source": [
        "- What's the most important feature?\n",
        "\n",
        "- Answer: median_income"
      ]
    },
    {
      "cell_type": "markdown",
      "metadata": {
        "id": "K5KEdiTMzPaI"
      },
      "source": [
        "**Question 6**\n",
        "\n",
        "Now let's train an XGBoost model! For this question, we'll tune the eta parameter:\n",
        "\n",
        "- Install XGBoost.\n",
        "- Create DMatrix for train and validation\n",
        "- Create a watchlist\n",
        "- Train a model with these parameters for 100 rounds:\n",
        "\n",
        "```\n",
        "xgb_params = {  \n",
        "    'eta': 0.3,  \n",
        "    'max_depth': 6,  \n",
        "    'min_child_weight': 1,  \n",
        "\n",
        "    'objective': 'reg:squarederror',\n",
        "    'nthread': 8,\n",
        "\n",
        "    'seed': 1,\n",
        "    'verbosity': 1,\n",
        "}\n",
        "```\n",
        "\n"
      ]
    },
    {
      "cell_type": "code",
      "execution_count": 36,
      "metadata": {
        "id": "TUP0uoL5yZTc"
      },
      "outputs": [],
      "source": [
        "#@ CREATING THE DMARTIX:\n",
        "features = dv.feature_names_\n",
        "\n",
        "regex = re.compile(r\"<\", re.IGNORECASE)\n",
        "features = [regex.sub(\"_\", col) if any(x in str(col) for x in set(('[', ']', '<'))) else col for col in features]\n",
        "\n",
        "dtrain = xgb.DMatrix(X_train, label=y_train, feature_names=features)\n",
        "dval = xgb.DMatrix(X_val, label=y_val, feature_names=features)"
      ]
    },
    {
      "cell_type": "code",
      "execution_count": 37,
      "metadata": {
        "id": "lRRzLznP-Z-Q"
      },
      "outputs": [],
      "source": [
        "# create a watchlist\n",
        "watchlist = [(dtrain, 'train'), (dval, 'val')]"
      ]
    },
    {
      "cell_type": "code",
      "execution_count": 39,
      "metadata": {},
      "outputs": [
        {
          "name": "stdout",
          "output_type": "stream",
          "text": [
            "[0]\ttrain-rmse:8.12733\tval-rmse:8.13245\n",
            "[1]\ttrain-rmse:5.69586\tval-rmse:5.70070\n",
            "[2]\ttrain-rmse:3.99540\tval-rmse:4.00041\n",
            "[3]\ttrain-rmse:2.80712\tval-rmse:2.81079\n",
            "[4]\ttrain-rmse:1.97834\tval-rmse:1.98175\n",
            "[5]\ttrain-rmse:1.40218\tval-rmse:1.40741\n",
            "[6]\ttrain-rmse:1.00099\tval-rmse:1.00700\n",
            "[7]\ttrain-rmse:0.72751\tval-rmse:0.73439\n",
            "[8]\ttrain-rmse:0.54190\tval-rmse:0.55047\n",
            "[9]\ttrain-rmse:0.42167\tval-rmse:0.43233\n",
            "[10]\ttrain-rmse:0.34481\tval-rmse:0.35782\n",
            "[11]\ttrain-rmse:0.29835\tval-rmse:0.31360\n",
            "[12]\ttrain-rmse:0.27095\tval-rmse:0.28865\n",
            "[13]\ttrain-rmse:0.25268\tval-rmse:0.27334\n",
            "[14]\ttrain-rmse:0.24295\tval-rmse:0.26605\n",
            "[15]\ttrain-rmse:0.23555\tval-rmse:0.26044\n",
            "[16]\ttrain-rmse:0.22630\tval-rmse:0.25229\n",
            "[17]\ttrain-rmse:0.22233\tval-rmse:0.24902\n",
            "[18]\ttrain-rmse:0.22029\tval-rmse:0.24826\n",
            "[19]\ttrain-rmse:0.21791\tval-rmse:0.24696\n",
            "[20]\ttrain-rmse:0.21580\tval-rmse:0.24624\n",
            "[21]\ttrain-rmse:0.21160\tval-rmse:0.24334\n",
            "[22]\ttrain-rmse:0.20975\tval-rmse:0.24245\n",
            "[23]\ttrain-rmse:0.20904\tval-rmse:0.24269\n",
            "[24]\ttrain-rmse:0.20703\tval-rmse:0.24252\n",
            "[25]\ttrain-rmse:0.20395\tval-rmse:0.24099\n",
            "[26]\ttrain-rmse:0.20188\tval-rmse:0.24019\n",
            "[27]\ttrain-rmse:0.20122\tval-rmse:0.24010\n",
            "[28]\ttrain-rmse:0.19810\tval-rmse:0.23843\n",
            "[29]\ttrain-rmse:0.19540\tval-rmse:0.23766\n",
            "[30]\ttrain-rmse:0.19440\tval-rmse:0.23741\n",
            "[31]\ttrain-rmse:0.19285\tval-rmse:0.23709\n",
            "[32]\ttrain-rmse:0.19126\tval-rmse:0.23686\n",
            "[33]\ttrain-rmse:0.18939\tval-rmse:0.23653\n",
            "[34]\ttrain-rmse:0.18742\tval-rmse:0.23605\n",
            "[35]\ttrain-rmse:0.18637\tval-rmse:0.23562\n",
            "[36]\ttrain-rmse:0.18486\tval-rmse:0.23539\n",
            "[37]\ttrain-rmse:0.18363\tval-rmse:0.23506\n",
            "[38]\ttrain-rmse:0.18274\tval-rmse:0.23495\n",
            "[39]\ttrain-rmse:0.18024\tval-rmse:0.23425\n",
            "[40]\ttrain-rmse:0.17983\tval-rmse:0.23419\n",
            "[41]\ttrain-rmse:0.17878\tval-rmse:0.23400\n",
            "[42]\ttrain-rmse:0.17782\tval-rmse:0.23384\n",
            "[43]\ttrain-rmse:0.17662\tval-rmse:0.23343\n",
            "[44]\ttrain-rmse:0.17568\tval-rmse:0.23317\n",
            "[45]\ttrain-rmse:0.17468\tval-rmse:0.23279\n",
            "[46]\ttrain-rmse:0.17304\tval-rmse:0.23205\n",
            "[47]\ttrain-rmse:0.17244\tval-rmse:0.23171\n",
            "[48]\ttrain-rmse:0.17139\tval-rmse:0.23142\n",
            "[49]\ttrain-rmse:0.17011\tval-rmse:0.23124\n",
            "[50]\ttrain-rmse:0.16934\tval-rmse:0.23097\n",
            "[51]\ttrain-rmse:0.16838\tval-rmse:0.23106\n",
            "[52]\ttrain-rmse:0.16788\tval-rmse:0.23074\n",
            "[53]\ttrain-rmse:0.16712\tval-rmse:0.23072\n",
            "[54]\ttrain-rmse:0.16616\tval-rmse:0.23030\n",
            "[55]\ttrain-rmse:0.16546\tval-rmse:0.23039\n",
            "[56]\ttrain-rmse:0.16433\tval-rmse:0.23006\n",
            "[57]\ttrain-rmse:0.16357\tval-rmse:0.23002\n",
            "[58]\ttrain-rmse:0.16309\tval-rmse:0.22987\n",
            "[59]\ttrain-rmse:0.16269\tval-rmse:0.22980\n",
            "[60]\ttrain-rmse:0.16177\tval-rmse:0.22950\n",
            "[61]\ttrain-rmse:0.16158\tval-rmse:0.22952\n",
            "[62]\ttrain-rmse:0.16081\tval-rmse:0.22929\n",
            "[63]\ttrain-rmse:0.15998\tval-rmse:0.22882\n",
            "[64]\ttrain-rmse:0.15854\tval-rmse:0.22878\n",
            "[65]\ttrain-rmse:0.15762\tval-rmse:0.22857\n",
            "[66]\ttrain-rmse:0.15666\tval-rmse:0.22862\n",
            "[67]\ttrain-rmse:0.15518\tval-rmse:0.22827\n",
            "[68]\ttrain-rmse:0.15446\tval-rmse:0.22825\n",
            "[69]\ttrain-rmse:0.15349\tval-rmse:0.22788\n",
            "[70]\ttrain-rmse:0.15323\tval-rmse:0.22787\n",
            "[71]\ttrain-rmse:0.15233\tval-rmse:0.22774\n",
            "[72]\ttrain-rmse:0.15212\tval-rmse:0.22773\n",
            "[73]\ttrain-rmse:0.15129\tval-rmse:0.22782\n",
            "[74]\ttrain-rmse:0.15075\tval-rmse:0.22771\n",
            "[75]\ttrain-rmse:0.15010\tval-rmse:0.22755\n",
            "[76]\ttrain-rmse:0.14872\tval-rmse:0.22705\n",
            "[77]\ttrain-rmse:0.14798\tval-rmse:0.22675\n",
            "[78]\ttrain-rmse:0.14728\tval-rmse:0.22669\n",
            "[79]\ttrain-rmse:0.14632\tval-rmse:0.22634\n",
            "[80]\ttrain-rmse:0.14564\tval-rmse:0.22611\n",
            "[81]\ttrain-rmse:0.14461\tval-rmse:0.22602\n",
            "[82]\ttrain-rmse:0.14386\tval-rmse:0.22595\n",
            "[83]\ttrain-rmse:0.14298\tval-rmse:0.22589\n",
            "[84]\ttrain-rmse:0.14244\tval-rmse:0.22598\n",
            "[85]\ttrain-rmse:0.14166\tval-rmse:0.22579\n",
            "[86]\ttrain-rmse:0.14128\tval-rmse:0.22582\n",
            "[87]\ttrain-rmse:0.14040\tval-rmse:0.22647\n",
            "[88]\ttrain-rmse:0.13997\tval-rmse:0.22641\n",
            "[89]\ttrain-rmse:0.13952\tval-rmse:0.22647\n",
            "[90]\ttrain-rmse:0.13892\tval-rmse:0.22628\n",
            "[91]\ttrain-rmse:0.13847\tval-rmse:0.22610\n",
            "[92]\ttrain-rmse:0.13794\tval-rmse:0.22619\n",
            "[93]\ttrain-rmse:0.13696\tval-rmse:0.22648\n",
            "[94]\ttrain-rmse:0.13626\tval-rmse:0.22643\n",
            "[95]\ttrain-rmse:0.13553\tval-rmse:0.22630\n"
          ]
        }
      ],
      "source": [
        "xgb_params = {  \n",
        "    'eta': 0.3,  \n",
        "    'max_depth': 6,  \n",
        "    'min_child_weight': 1,  \n",
        "\n",
        "    'objective': 'reg:squarederror',\n",
        "    'nthread': 8,\n",
        "\n",
        "    'seed': 1,\n",
        "    'verbosity': 1,\n",
        "}\n",
        "\n",
        "#@ TRAINING THE XGBOOST MODEL FOR 100 ROUNDS:\n",
        "model_xgb = xgb.train(xgb_params, dtrain, num_boost_round=100, evals=watchlist, early_stopping_rounds=10)"
      ]
    },
    {
      "cell_type": "code",
      "execution_count": 40,
      "metadata": {},
      "outputs": [
        {
          "data": {
            "text/plain": [
              "0.2263040575032991"
            ]
          },
          "execution_count": 40,
          "metadata": {},
          "output_type": "execute_result"
        }
      ],
      "source": [
        "y_pred = model_xgb.predict(dval)\n",
        "rmse = mean_squared_error(y_val, y_pred, squared=False)\n",
        "rmse"
      ]
    },
    {
      "cell_type": "markdown",
      "metadata": {
        "id": "3RmcQ1BQ64X-"
      },
      "source": [
        "- Now, change eta first to 0.1 and then to 0.01."
      ]
    },
    {
      "cell_type": "markdown",
      "metadata": {
        "id": "Yl6Xn6Zb76iH"
      },
      "source": [
        "- Which eta leads to the best RMSE score on the validation dataset?\n",
        "\n",
        "- Answer: 0.3"
      ]
    },
    {
      "cell_type": "code",
      "execution_count": 41,
      "metadata": {},
      "outputs": [
        {
          "name": "stdout",
          "output_type": "stream",
          "text": [
            "[0]\ttrain-rmse:10.44372\tval-rmse:10.44938\n",
            "[1]\ttrain-rmse:9.40118\tval-rmse:9.40684\n",
            "[2]\ttrain-rmse:8.46290\tval-rmse:8.46831\n",
            "[3]\ttrain-rmse:7.61859\tval-rmse:7.62391\n",
            "[4]\ttrain-rmse:6.85878\tval-rmse:6.86368\n",
            "[5]\ttrain-rmse:6.17513\tval-rmse:6.17987\n",
            "[6]\ttrain-rmse:5.55994\tval-rmse:5.56437\n",
            "[7]\ttrain-rmse:5.00643\tval-rmse:5.01061\n",
            "[8]\ttrain-rmse:4.50846\tval-rmse:4.51264\n",
            "[9]\ttrain-rmse:4.06043\tval-rmse:4.06461\n",
            "[10]\ttrain-rmse:3.65741\tval-rmse:3.66135\n",
            "[11]\ttrain-rmse:3.29492\tval-rmse:3.29877\n",
            "[12]\ttrain-rmse:2.96894\tval-rmse:2.97284\n",
            "[13]\ttrain-rmse:2.67573\tval-rmse:2.67979\n",
            "[14]\ttrain-rmse:2.41195\tval-rmse:2.41587\n",
            "[15]\ttrain-rmse:2.17500\tval-rmse:2.17928\n",
            "[16]\ttrain-rmse:1.96214\tval-rmse:1.96662\n",
            "[17]\ttrain-rmse:1.77065\tval-rmse:1.77536\n",
            "[18]\ttrain-rmse:1.59880\tval-rmse:1.60396\n",
            "[19]\ttrain-rmse:1.44376\tval-rmse:1.44910\n",
            "[20]\ttrain-rmse:1.30499\tval-rmse:1.31054\n",
            "[21]\ttrain-rmse:1.18080\tval-rmse:1.18646\n",
            "[22]\ttrain-rmse:1.06879\tval-rmse:1.07469\n",
            "[23]\ttrain-rmse:0.96912\tval-rmse:0.97546\n",
            "[24]\ttrain-rmse:0.87914\tval-rmse:0.88576\n",
            "[25]\ttrain-rmse:0.79933\tval-rmse:0.80657\n",
            "[26]\ttrain-rmse:0.72790\tval-rmse:0.73566\n",
            "[27]\ttrain-rmse:0.66451\tval-rmse:0.67282\n",
            "[28]\ttrain-rmse:0.60723\tval-rmse:0.61618\n",
            "[29]\ttrain-rmse:0.55636\tval-rmse:0.56601\n",
            "[30]\ttrain-rmse:0.51144\tval-rmse:0.52189\n",
            "[31]\ttrain-rmse:0.47189\tval-rmse:0.48338\n",
            "[32]\ttrain-rmse:0.43732\tval-rmse:0.44960\n",
            "[33]\ttrain-rmse:0.40669\tval-rmse:0.41992\n",
            "[34]\ttrain-rmse:0.38017\tval-rmse:0.39439\n",
            "[35]\ttrain-rmse:0.35700\tval-rmse:0.37264\n",
            "[36]\ttrain-rmse:0.33733\tval-rmse:0.35398\n",
            "[37]\ttrain-rmse:0.31985\tval-rmse:0.33778\n",
            "[38]\ttrain-rmse:0.30449\tval-rmse:0.32340\n",
            "[39]\ttrain-rmse:0.29115\tval-rmse:0.31104\n",
            "[40]\ttrain-rmse:0.27984\tval-rmse:0.30053\n",
            "[41]\ttrain-rmse:0.27067\tval-rmse:0.29195\n",
            "[42]\ttrain-rmse:0.26257\tval-rmse:0.28468\n",
            "[43]\ttrain-rmse:0.25532\tval-rmse:0.27832\n",
            "[44]\ttrain-rmse:0.24897\tval-rmse:0.27269\n",
            "[45]\ttrain-rmse:0.24350\tval-rmse:0.26829\n",
            "[46]\ttrain-rmse:0.23912\tval-rmse:0.26437\n",
            "[47]\ttrain-rmse:0.23532\tval-rmse:0.26091\n",
            "[48]\ttrain-rmse:0.23170\tval-rmse:0.25803\n",
            "[49]\ttrain-rmse:0.22852\tval-rmse:0.25521\n",
            "[50]\ttrain-rmse:0.22614\tval-rmse:0.25334\n",
            "[51]\ttrain-rmse:0.22366\tval-rmse:0.25115\n",
            "[52]\ttrain-rmse:0.22167\tval-rmse:0.24976\n",
            "[53]\ttrain-rmse:0.22027\tval-rmse:0.24876\n",
            "[54]\ttrain-rmse:0.21843\tval-rmse:0.24751\n",
            "[55]\ttrain-rmse:0.21695\tval-rmse:0.24657\n",
            "[56]\ttrain-rmse:0.21568\tval-rmse:0.24560\n",
            "[57]\ttrain-rmse:0.21454\tval-rmse:0.24480\n",
            "[58]\ttrain-rmse:0.21336\tval-rmse:0.24411\n",
            "[59]\ttrain-rmse:0.21237\tval-rmse:0.24341\n",
            "[60]\ttrain-rmse:0.21035\tval-rmse:0.24189\n",
            "[61]\ttrain-rmse:0.20927\tval-rmse:0.24115\n",
            "[62]\ttrain-rmse:0.20870\tval-rmse:0.24089\n",
            "[63]\ttrain-rmse:0.20760\tval-rmse:0.24046\n",
            "[64]\ttrain-rmse:0.20723\tval-rmse:0.24036\n",
            "[65]\ttrain-rmse:0.20579\tval-rmse:0.23943\n",
            "[66]\ttrain-rmse:0.20510\tval-rmse:0.23908\n",
            "[67]\ttrain-rmse:0.20389\tval-rmse:0.23836\n",
            "[68]\ttrain-rmse:0.20302\tval-rmse:0.23798\n",
            "[69]\ttrain-rmse:0.20189\tval-rmse:0.23725\n",
            "[70]\ttrain-rmse:0.20116\tval-rmse:0.23684\n",
            "[71]\ttrain-rmse:0.20053\tval-rmse:0.23649\n",
            "[72]\ttrain-rmse:0.19928\tval-rmse:0.23587\n",
            "[73]\ttrain-rmse:0.19856\tval-rmse:0.23550\n",
            "[74]\ttrain-rmse:0.19760\tval-rmse:0.23523\n",
            "[75]\ttrain-rmse:0.19680\tval-rmse:0.23507\n",
            "[76]\ttrain-rmse:0.19636\tval-rmse:0.23491\n",
            "[77]\ttrain-rmse:0.19561\tval-rmse:0.23446\n",
            "[78]\ttrain-rmse:0.19482\tval-rmse:0.23427\n",
            "[79]\ttrain-rmse:0.19438\tval-rmse:0.23423\n",
            "[80]\ttrain-rmse:0.19384\tval-rmse:0.23398\n",
            "[81]\ttrain-rmse:0.19334\tval-rmse:0.23392\n",
            "[82]\ttrain-rmse:0.19266\tval-rmse:0.23364\n",
            "[83]\ttrain-rmse:0.19212\tval-rmse:0.23330\n",
            "[84]\ttrain-rmse:0.19129\tval-rmse:0.23289\n",
            "[85]\ttrain-rmse:0.19085\tval-rmse:0.23275\n",
            "[86]\ttrain-rmse:0.19008\tval-rmse:0.23266\n",
            "[87]\ttrain-rmse:0.18941\tval-rmse:0.23230\n",
            "[88]\ttrain-rmse:0.18903\tval-rmse:0.23228\n",
            "[89]\ttrain-rmse:0.18855\tval-rmse:0.23220\n",
            "[90]\ttrain-rmse:0.18794\tval-rmse:0.23206\n",
            "[91]\ttrain-rmse:0.18728\tval-rmse:0.23167\n",
            "[92]\ttrain-rmse:0.18691\tval-rmse:0.23162\n",
            "[93]\ttrain-rmse:0.18620\tval-rmse:0.23117\n",
            "[94]\ttrain-rmse:0.18586\tval-rmse:0.23104\n",
            "[95]\ttrain-rmse:0.18541\tval-rmse:0.23106\n",
            "[96]\ttrain-rmse:0.18470\tval-rmse:0.23089\n",
            "[97]\ttrain-rmse:0.18405\tval-rmse:0.23067\n",
            "[98]\ttrain-rmse:0.18385\tval-rmse:0.23057\n",
            "[99]\ttrain-rmse:0.18329\tval-rmse:0.23054\n"
          ]
        },
        {
          "data": {
            "text/plain": [
              "0.2305416021993131"
            ]
          },
          "execution_count": 41,
          "metadata": {},
          "output_type": "execute_result"
        }
      ],
      "source": [
        "xgb_params = {  \n",
        "    'eta': 0.1,  \n",
        "    'max_depth': 6,  \n",
        "    'min_child_weight': 1,  \n",
        "\n",
        "    'objective': 'reg:squarederror',\n",
        "    'nthread': 8,\n",
        "\n",
        "    'seed': 1,\n",
        "    'verbosity': 1,\n",
        "}\n",
        "\n",
        "#@ TRAINING THE XGBOOST MODEL FOR 100 ROUNDS:\n",
        "model_xgb = xgb.train(xgb_params, dtrain, num_boost_round=100, evals=watchlist, early_stopping_rounds=10)\n",
        "y_pred = model_xgb.predict(dval)\n",
        "rmse = mean_squared_error(y_val, y_pred, squared=False)\n",
        "rmse"
      ]
    },
    {
      "cell_type": "code",
      "execution_count": 42,
      "metadata": {},
      "outputs": [
        {
          "name": "stdout",
          "output_type": "stream",
          "text": [
            "[0]\ttrain-rmse:11.48634\tval-rmse:11.49225\n",
            "[1]\ttrain-rmse:11.37165\tval-rmse:11.37753\n",
            "[2]\ttrain-rmse:11.25810\tval-rmse:11.26397\n",
            "[3]\ttrain-rmse:11.14569\tval-rmse:11.15153\n",
            "[4]\ttrain-rmse:11.03441\tval-rmse:11.04022\n",
            "[5]\ttrain-rmse:10.92424\tval-rmse:10.93003\n",
            "[6]\ttrain-rmse:10.81516\tval-rmse:10.82094\n",
            "[7]\ttrain-rmse:10.70718\tval-rmse:10.71290\n",
            "[8]\ttrain-rmse:10.60029\tval-rmse:10.60598\n",
            "[9]\ttrain-rmse:10.49446\tval-rmse:10.50009\n",
            "[10]\ttrain-rmse:10.38969\tval-rmse:10.39532\n",
            "[11]\ttrain-rmse:10.28597\tval-rmse:10.29160\n",
            "[12]\ttrain-rmse:10.18328\tval-rmse:10.18889\n",
            "[13]\ttrain-rmse:10.08163\tval-rmse:10.08723\n",
            "[14]\ttrain-rmse:9.98099\tval-rmse:9.98657\n",
            "[15]\ttrain-rmse:9.88136\tval-rmse:9.88695\n",
            "[16]\ttrain-rmse:9.78273\tval-rmse:9.78832\n",
            "[17]\ttrain-rmse:9.68508\tval-rmse:9.69063\n",
            "[18]\ttrain-rmse:9.58841\tval-rmse:9.59394\n",
            "[19]\ttrain-rmse:9.49270\tval-rmse:9.49823\n",
            "[20]\ttrain-rmse:9.39796\tval-rmse:9.40346\n",
            "[21]\ttrain-rmse:9.30416\tval-rmse:9.30966\n",
            "[22]\ttrain-rmse:9.21131\tval-rmse:9.21680\n",
            "[23]\ttrain-rmse:9.11938\tval-rmse:9.12485\n",
            "[24]\ttrain-rmse:9.02836\tval-rmse:9.03382\n",
            "[25]\ttrain-rmse:8.93827\tval-rmse:8.94370\n",
            "[26]\ttrain-rmse:8.84906\tval-rmse:8.85448\n",
            "[27]\ttrain-rmse:8.76076\tval-rmse:8.76616\n",
            "[28]\ttrain-rmse:8.67333\tval-rmse:8.67871\n",
            "[29]\ttrain-rmse:8.58678\tval-rmse:8.59214\n",
            "[30]\ttrain-rmse:8.50110\tval-rmse:8.50645\n",
            "[31]\ttrain-rmse:8.41628\tval-rmse:8.42160\n",
            "[32]\ttrain-rmse:8.33230\tval-rmse:8.33760\n",
            "[33]\ttrain-rmse:8.24917\tval-rmse:8.25445\n",
            "[34]\ttrain-rmse:8.16687\tval-rmse:8.17212\n",
            "[35]\ttrain-rmse:8.08539\tval-rmse:8.09064\n",
            "[36]\ttrain-rmse:8.00473\tval-rmse:8.00996\n",
            "[37]\ttrain-rmse:7.92488\tval-rmse:7.93008\n",
            "[38]\ttrain-rmse:7.84582\tval-rmse:7.85101\n",
            "[39]\ttrain-rmse:7.76756\tval-rmse:7.77273\n",
            "[40]\ttrain-rmse:7.69008\tval-rmse:7.69524\n",
            "[41]\ttrain-rmse:7.61338\tval-rmse:7.61852\n",
            "[42]\ttrain-rmse:7.53744\tval-rmse:7.54256\n",
            "[43]\ttrain-rmse:7.46227\tval-rmse:7.46738\n",
            "[44]\ttrain-rmse:7.38785\tval-rmse:7.39293\n",
            "[45]\ttrain-rmse:7.31418\tval-rmse:7.31924\n",
            "[46]\ttrain-rmse:7.24124\tval-rmse:7.24628\n",
            "[47]\ttrain-rmse:7.16903\tval-rmse:7.17406\n",
            "[48]\ttrain-rmse:7.09755\tval-rmse:7.10257\n",
            "[49]\ttrain-rmse:7.02678\tval-rmse:7.03178\n",
            "[50]\ttrain-rmse:6.95672\tval-rmse:6.96171\n",
            "[51]\ttrain-rmse:6.88736\tval-rmse:6.89235\n",
            "[52]\ttrain-rmse:6.81870\tval-rmse:6.82366\n",
            "[53]\ttrain-rmse:6.75073\tval-rmse:6.75567\n",
            "[54]\ttrain-rmse:6.68343\tval-rmse:6.68837\n",
            "[55]\ttrain-rmse:6.61681\tval-rmse:6.62173\n",
            "[56]\ttrain-rmse:6.55086\tval-rmse:6.55575\n",
            "[57]\ttrain-rmse:6.48557\tval-rmse:6.49045\n",
            "[58]\ttrain-rmse:6.42093\tval-rmse:6.42579\n",
            "[59]\ttrain-rmse:6.35695\tval-rmse:6.36178\n",
            "[60]\ttrain-rmse:6.29360\tval-rmse:6.29841\n",
            "[61]\ttrain-rmse:6.23088\tval-rmse:6.23567\n",
            "[62]\ttrain-rmse:6.16880\tval-rmse:6.17357\n",
            "[63]\ttrain-rmse:6.10734\tval-rmse:6.11209\n",
            "[64]\ttrain-rmse:6.04649\tval-rmse:6.05120\n",
            "[65]\ttrain-rmse:5.98625\tval-rmse:5.99094\n",
            "[66]\ttrain-rmse:5.92662\tval-rmse:5.93127\n",
            "[67]\ttrain-rmse:5.86758\tval-rmse:5.87221\n",
            "[68]\ttrain-rmse:5.80914\tval-rmse:5.81373\n",
            "[69]\ttrain-rmse:5.75128\tval-rmse:5.75585\n",
            "[70]\ttrain-rmse:5.69400\tval-rmse:5.69854\n",
            "[71]\ttrain-rmse:5.63730\tval-rmse:5.64181\n",
            "[72]\ttrain-rmse:5.58116\tval-rmse:5.58565\n",
            "[73]\ttrain-rmse:5.52559\tval-rmse:5.53006\n",
            "[74]\ttrain-rmse:5.47057\tval-rmse:5.47502\n",
            "[75]\ttrain-rmse:5.41611\tval-rmse:5.42053\n",
            "[76]\ttrain-rmse:5.36219\tval-rmse:5.36659\n",
            "[77]\ttrain-rmse:5.30881\tval-rmse:5.31319\n",
            "[78]\ttrain-rmse:5.25597\tval-rmse:5.26034\n",
            "[79]\ttrain-rmse:5.20366\tval-rmse:5.20802\n",
            "[80]\ttrain-rmse:5.15187\tval-rmse:5.15621\n",
            "[81]\ttrain-rmse:5.10060\tval-rmse:5.10493\n",
            "[82]\ttrain-rmse:5.04985\tval-rmse:5.05416\n",
            "[83]\ttrain-rmse:4.99960\tval-rmse:5.00389\n",
            "[84]\ttrain-rmse:4.94986\tval-rmse:4.95414\n",
            "[85]\ttrain-rmse:4.90062\tval-rmse:4.90486\n",
            "[86]\ttrain-rmse:4.85187\tval-rmse:4.85610\n",
            "[87]\ttrain-rmse:4.80361\tval-rmse:4.80783\n",
            "[88]\ttrain-rmse:4.75583\tval-rmse:4.76003\n",
            "[89]\ttrain-rmse:4.70854\tval-rmse:4.71272\n",
            "[90]\ttrain-rmse:4.66171\tval-rmse:4.66589\n",
            "[91]\ttrain-rmse:4.61536\tval-rmse:4.61953\n",
            "[92]\ttrain-rmse:4.56948\tval-rmse:4.57363\n",
            "[93]\ttrain-rmse:4.52405\tval-rmse:4.52820\n",
            "[94]\ttrain-rmse:4.47908\tval-rmse:4.48321\n",
            "[95]\ttrain-rmse:4.43456\tval-rmse:4.43868\n",
            "[96]\ttrain-rmse:4.39049\tval-rmse:4.39459\n",
            "[97]\ttrain-rmse:4.34686\tval-rmse:4.35096\n",
            "[98]\ttrain-rmse:4.30367\tval-rmse:4.30774\n",
            "[99]\ttrain-rmse:4.26092\tval-rmse:4.26496\n"
          ]
        },
        {
          "data": {
            "text/plain": [
              "4.264961152048471"
            ]
          },
          "execution_count": 42,
          "metadata": {},
          "output_type": "execute_result"
        }
      ],
      "source": [
        "xgb_params = {  \n",
        "    'eta': 0.01,  \n",
        "    'max_depth': 6,  \n",
        "    'min_child_weight': 1,  \n",
        "\n",
        "    'objective': 'reg:squarederror',\n",
        "    'nthread': 8,\n",
        "\n",
        "    'seed': 1,\n",
        "    'verbosity': 1,\n",
        "}\n",
        "\n",
        "#@ TRAINING THE XGBOOST MODEL FOR 100 ROUNDS:\n",
        "model_xgb = xgb.train(xgb_params, dtrain, num_boost_round=100, evals=watchlist, early_stopping_rounds=10)\n",
        "y_pred = model_xgb.predict(dval)\n",
        "rmse = mean_squared_error(y_val, y_pred, squared=False)\n",
        "rmse"
      ]
    },
    {
      "cell_type": "code",
      "execution_count": null,
      "metadata": {},
      "outputs": [],
      "source": []
    }
  ],
  "metadata": {
    "colab": {
      "provenance": []
    },
    "kernelspec": {
      "display_name": "Python 3.9.13 ('mlzoomcamp')",
      "language": "python",
      "name": "python3"
    },
    "language_info": {
      "codemirror_mode": {
        "name": "ipython",
        "version": 3
      },
      "file_extension": ".py",
      "mimetype": "text/x-python",
      "name": "python",
      "nbconvert_exporter": "python",
      "pygments_lexer": "ipython3",
      "version": "3.9.13"
    },
    "vscode": {
      "interpreter": {
        "hash": "339f948244b2081697f156839e5e059560d0a75174bf19e73cbf427d089be81b"
      }
    }
  },
  "nbformat": 4,
  "nbformat_minor": 0
}
